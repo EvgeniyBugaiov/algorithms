{
 "cells": [
  {
   "cell_type": "code",
   "execution_count": 1,
   "id": "7dddd947-1bdf-483c-b3b2-656fb7417756",
   "metadata": {},
   "outputs": [],
   "source": [
    "class Stack:\n",
    "    def __init__(self):\n",
    "        self.items = []\n",
    "        \n",
    "    def is_empty(self):\n",
    "        return self.items == []\n",
    "    \n",
    "    def size(self):\n",
    "        return len(self.items)\n",
    "    \n",
    "    def peek(self):\n",
    "        return self.items[-1]\n",
    "    \n",
    "    def push(self, item):\n",
    "        self.items.append(item)\n",
    "        \n",
    "    def pop(self):\n",
    "        return self.items.pop()"
   ]
  },
  {
   "cell_type": "code",
   "execution_count": 2,
   "id": "4d47dae3-f573-4b47-b2c4-f5b0b93edd68",
   "metadata": {},
   "outputs": [
    {
     "name": "stdout",
     "output_type": "stream",
     "text": [
      "True\n",
      "None\n",
      "None\n",
      "2\n",
      "2\n",
      "1\n"
     ]
    }
   ],
   "source": [
    "s = Stack()\n",
    "\n",
    "print(s.is_empty())\n",
    "print(s.push(1))\n",
    "print(s.push(2))\n",
    "print(s.peek())\n",
    "print(s.pop())\n",
    "print(s.size())"
   ]
  },
  {
   "cell_type": "code",
   "execution_count": 3,
   "id": "4ba200cb-3641-4901-932c-a29ce812c61f",
   "metadata": {},
   "outputs": [],
   "source": [
    "def is_pair(opened: str, closed: str) -> bool:\n",
    "    o = ['(', '{', '[']\n",
    "    c = [')', '}', ']']\n",
    "    return o.index(opened) == c.index(closed)\n",
    "\n",
    "def par_checker(symbols_str: str) -> bool:\n",
    "    s = Stack()\n",
    "    for ch in symbols_str:\n",
    "        if ch in '({[':\n",
    "            s.push(ch)\n",
    "        else:\n",
    "            if not is_pair(s.pop(), ch):\n",
    "                return False\n",
    "    return s.is_empty()"
   ]
  },
  {
   "cell_type": "code",
   "execution_count": 4,
   "id": "40604164-cf23-4be1-abd4-b52f724fe81f",
   "metadata": {},
   "outputs": [],
   "source": [
    "assert is_pair('[', ']') == True\n",
    "assert par_checker('([])') == True\n",
    "assert par_checker('([)]') == False"
   ]
  },
  {
   "cell_type": "code",
   "execution_count": 5,
   "id": "8e7fdf6f-cdc5-4178-8862-2a0dde9051c2",
   "metadata": {},
   "outputs": [],
   "source": [
    "def base_converter(number: int, base: int) -> str:\n",
    "    digits = '0123456789ABCDEF'\n",
    "    s = Stack()\n",
    "    \n",
    "    while number > 0:\n",
    "        remainder = number % base\n",
    "        s.push(remainder)\n",
    "        number = number // base\n",
    "    res = ''\n",
    "    while not s.is_empty():\n",
    "        res += digits[s.pop()]\n",
    "    return res"
   ]
  },
  {
   "cell_type": "code",
   "execution_count": 6,
   "id": "d63aad4b-6507-4980-ad06-f48d193263f3",
   "metadata": {},
   "outputs": [],
   "source": [
    "assert base_converter(10, 2) == '1010'\n",
    "assert base_converter(10, 16) == 'A'"
   ]
  },
  {
   "cell_type": "code",
   "execution_count": 10,
   "id": "f42c4b04-a9ae-4a23-9b77-ccae917ba655",
   "metadata": {},
   "outputs": [],
   "source": [
    "from string import ascii_letters, digits\n",
    "\n",
    "def infix_to_postfix(infix_expr: str) -> str:\n",
    "    prec = {}\n",
    "    prec['/'] = 3\n",
    "    prec['*'] = 3\n",
    "    prec['+'] = 2\n",
    "    prec['-'] = 2\n",
    "    prec['('] = 1\n",
    "    op_stack = Stack()\n",
    "    postfix_list = []\n",
    "    token_list = infix_expr.split()\n",
    "    \n",
    "    for token in token_list:\n",
    "        if token in ascii_letters or token in digits:\n",
    "            postfix_list.append(token)\n",
    "        elif token == '(':\n",
    "            op_stack.push(token)\n",
    "        elif token == ')':\n",
    "            top_token = op_stack.pop()\n",
    "            while top_token != '(':\n",
    "                postfix_list.append(top_token)\n",
    "                top_token = op_stack.pop()\n",
    "        else:\n",
    "            while (not op_stack.is_empty()) and (prec[op_stack.peek()] >= prec(token)):\n",
    "                postfix_list.append(op_stack.pop())\n",
    "            op_stack.push(token)\n",
    "        \n",
    "        while not op_stack.is_empty():\n",
    "            postfix_list.append(op_stack.pop())\n",
    "        return ' '.join(postfix_list)"
   ]
  },
  {
   "cell_type": "code",
   "execution_count": 13,
   "id": "0fd47fa0-e6b6-4dc1-b6dc-92db673dd38b",
   "metadata": {},
   "outputs": [
    {
     "data": {
      "text/plain": [
       "'a'"
      ]
     },
     "execution_count": 13,
     "metadata": {},
     "output_type": "execute_result"
    }
   ],
   "source": [
    "infix_to_postfix('a + b * c')"
   ]
  },
  {
   "cell_type": "code",
   "execution_count": 17,
   "id": "355ea1a2-25f9-49be-80eb-73cdd7be928e",
   "metadata": {},
   "outputs": [],
   "source": [
    "from string import digits\n",
    "\n",
    "def postfix_eval(postfix_expr: str) -> float:\n",
    "    operand_stack = Stack()\n",
    "    token_list = postfix_expr.split()\n",
    "    \n",
    "    for token in token_list:\n",
    "        if token in digits:\n",
    "            operand_stack.push(int(token))\n",
    "        else:\n",
    "            operand2 = operand_stack.pop()\n",
    "            operand1 = operand_stack.pop()\n",
    "            res = exec(f'{operand1} {token} {operand2}')\n",
    "            operand_stack.push(res)\n",
    "    return operand_stack.pop()"
   ]
  },
  {
   "cell_type": "code",
   "execution_count": 19,
   "id": "23841afd-8f31-4b0b-a24f-4e6884eaf745",
   "metadata": {},
   "outputs": [
    {
     "ename": "IndexError",
     "evalue": "pop from empty list",
     "output_type": "error",
     "traceback": [
      "\u001b[0;31m---------------------------------------------------------------------------\u001b[0m",
      "\u001b[0;31mIndexError\u001b[0m                                Traceback (most recent call last)",
      "Input \u001b[0;32mIn [19]\u001b[0m, in \u001b[0;36m<cell line: 1>\u001b[0;34m()\u001b[0m\n\u001b[0;32m----> 1\u001b[0m \u001b[43mpostfix_eval\u001b[49m\u001b[43m(\u001b[49m\u001b[38;5;124;43m'\u001b[39;49m\u001b[38;5;124;43m78 + 32 + /\u001b[39;49m\u001b[38;5;124;43m'\u001b[39;49m\u001b[43m)\u001b[49m\n",
      "Input \u001b[0;32mIn [17]\u001b[0m, in \u001b[0;36mpostfix_eval\u001b[0;34m(postfix_expr)\u001b[0m\n\u001b[1;32m     10\u001b[0m \u001b[38;5;28;01melse\u001b[39;00m:\n\u001b[1;32m     11\u001b[0m     operand2 \u001b[38;5;241m=\u001b[39m operand_stack\u001b[38;5;241m.\u001b[39mpop()\n\u001b[0;32m---> 12\u001b[0m     operand1 \u001b[38;5;241m=\u001b[39m \u001b[43moperand_stack\u001b[49m\u001b[38;5;241;43m.\u001b[39;49m\u001b[43mpop\u001b[49m\u001b[43m(\u001b[49m\u001b[43m)\u001b[49m\n\u001b[1;32m     13\u001b[0m     res \u001b[38;5;241m=\u001b[39m exec(\u001b[38;5;124mf\u001b[39m\u001b[38;5;124m'\u001b[39m\u001b[38;5;132;01m{\u001b[39;00moperand1\u001b[38;5;132;01m}\u001b[39;00m\u001b[38;5;124m \u001b[39m\u001b[38;5;132;01m{\u001b[39;00mtoken\u001b[38;5;132;01m}\u001b[39;00m\u001b[38;5;124m \u001b[39m\u001b[38;5;132;01m{\u001b[39;00moperand2\u001b[38;5;132;01m}\u001b[39;00m\u001b[38;5;124m'\u001b[39m)\n\u001b[1;32m     14\u001b[0m     operand_stack\u001b[38;5;241m.\u001b[39mpush(res)\n",
      "Input \u001b[0;32mIn [8]\u001b[0m, in \u001b[0;36mStack.pop\u001b[0;34m(self)\u001b[0m\n\u001b[1;32m     17\u001b[0m \u001b[38;5;28;01mdef\u001b[39;00m \u001b[38;5;21mpop\u001b[39m(\u001b[38;5;28mself\u001b[39m):\n\u001b[0;32m---> 18\u001b[0m     \u001b[38;5;28;01mreturn\u001b[39;00m \u001b[38;5;28;43mself\u001b[39;49m\u001b[38;5;241;43m.\u001b[39;49m\u001b[43mitems\u001b[49m\u001b[38;5;241;43m.\u001b[39;49m\u001b[43mpop\u001b[49m\u001b[43m(\u001b[49m\u001b[43m)\u001b[49m\n",
      "\u001b[0;31mIndexError\u001b[0m: pop from empty list"
     ]
    }
   ],
   "source": [
    "postfix_eval('7 8 + 3 2 + /')"
   ]
  }
 ],
 "metadata": {
  "kernelspec": {
   "display_name": "Python 3 (ipykernel)",
   "language": "python",
   "name": "python3"
  },
  "language_info": {
   "codemirror_mode": {
    "name": "ipython",
    "version": 3
   },
   "file_extension": ".py",
   "mimetype": "text/x-python",
   "name": "python",
   "nbconvert_exporter": "python",
   "pygments_lexer": "ipython3",
   "version": "3.10.2"
  }
 },
 "nbformat": 4,
 "nbformat_minor": 5
}
