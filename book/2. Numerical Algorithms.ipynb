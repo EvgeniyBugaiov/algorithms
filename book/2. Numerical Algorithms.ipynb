{
 "cells": [
  {
   "cell_type": "code",
   "execution_count": 9,
   "id": "7498b1f9-6f71-4e59-8f71-c79f5bcd4576",
   "metadata": {},
   "outputs": [],
   "source": [
    "def gcd(first: int, second: int) -> int:\n",
    "    while second != 0:\n",
    "        remainder = first % second\n",
    "        first = second\n",
    "        second = remainder\n",
    "    return first"
   ]
  },
  {
   "cell_type": "code",
   "execution_count": 10,
   "id": "baed6d96-dd7d-4615-8811-3fb05ff74d6d",
   "metadata": {},
   "outputs": [
    {
     "name": "stdout",
     "output_type": "stream",
     "text": [
      "1.08 µs ± 1.78 ns per loop (mean ± std. dev. of 7 runs, 1000000 loops each)\n"
     ]
    }
   ],
   "source": [
    "%%timeit\n",
    "gcd(4851, 3003)"
   ]
  },
  {
   "cell_type": "code",
   "execution_count": 13,
   "id": "f32824f7-5ecc-4aa8-9ca5-15be79e12e5a",
   "metadata": {},
   "outputs": [],
   "source": [
    "#with recursion\n",
    "def gcd(first: int, second: int) -> int:\n",
    "    return first if second == 0 else gcd(second, first % second)"
   ]
  },
  {
   "cell_type": "code",
   "execution_count": 12,
   "id": "6919c64c-5105-4365-804e-605d8ad1b72b",
   "metadata": {},
   "outputs": [
    {
     "name": "stdout",
     "output_type": "stream",
     "text": [
      "1.83 µs ± 7.55 ns per loop (mean ± std. dev. of 7 runs, 100000 loops each)\n"
     ]
    }
   ],
   "source": [
    "%%timeit\n",
    "gcd(4851, 3003)"
   ]
  },
  {
   "cell_type": "code",
   "execution_count": 14,
   "id": "4abacf82-fab2-4b16-a043-084ec42b8899",
   "metadata": {},
   "outputs": [],
   "source": [
    "def bin_pow(num: float, p: int) -> float:\n",
    "    if p == 0:\n",
    "        return 1\n",
    "    if p % 2 == 0:\n",
    "        temp = bin_pow(num, p / 2)\n",
    "        return temp * temp\n",
    "    else:\n",
    "        return bin_pow(num, p - 1) * num"
   ]
  },
  {
   "cell_type": "code",
   "execution_count": 18,
   "id": "7d983cd4-f0a2-43d4-9faa-5066f020440b",
   "metadata": {},
   "outputs": [
    {
     "data": {
      "text/plain": [
       "117649"
      ]
     },
     "execution_count": 18,
     "metadata": {},
     "output_type": "execute_result"
    }
   ],
   "source": [
    "bin_pow(7, 6)"
   ]
  }
 ],
 "metadata": {
  "kernelspec": {
   "display_name": "Python 3 (ipykernel)",
   "language": "python",
   "name": "python3"
  },
  "language_info": {
   "codemirror_mode": {
    "name": "ipython",
    "version": 3
   },
   "file_extension": ".py",
   "mimetype": "text/x-python",
   "name": "python",
   "nbconvert_exporter": "python",
   "pygments_lexer": "ipython3",
   "version": "3.10.2"
  }
 },
 "nbformat": 4,
 "nbformat_minor": 5
}
