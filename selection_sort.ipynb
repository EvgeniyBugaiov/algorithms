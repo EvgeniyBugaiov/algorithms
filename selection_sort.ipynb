{
 "cells": [
  {
   "cell_type": "code",
   "execution_count": 20,
   "id": "9d9c0d1e-020f-46e0-a701-f457d65fb75e",
   "metadata": {},
   "outputs": [],
   "source": [
    "from typing import List\n",
    "\n",
    "def selection_sort_1(arr: List[int]) -> List[int]:\n",
    "    for i in range(len(arr)):\n",
    "        min_inx = i\n",
    "        for j in range(i+1, len(arr)):\n",
    "            if arr[min_inx] > arr[j]:\n",
    "                min_inx = j\n",
    "        arr[i], arr[min_inx] = arr[min_inx], arr[i]\n",
    "    return arr"
   ]
  },
  {
   "cell_type": "code",
   "execution_count": 28,
   "id": "2d5c71fa-c540-4acd-886d-5e988f20b0a0",
   "metadata": {},
   "outputs": [],
   "source": [
    "def find_smalest(arr):\n",
    "    min_inx = 0\n",
    "    for i in range(1, len(arr)):\n",
    "        if arr[min_inx] > arr[i]:\n",
    "            min_inx = i\n",
    "    return min_inx\n",
    "\n",
    "def selection_sort_2(arr):\n",
    "    new_arr = []\n",
    "    for i in range(len(arr)):\n",
    "        smallest = find_smalest(arr)\n",
    "        new_arr.append(arr.pop(smallest))\n",
    "    return new_arr"
   ]
  },
  {
   "cell_type": "code",
   "execution_count": 22,
   "id": "c1f6ca41-d53c-45eb-b9de-762d3d5606f7",
   "metadata": {},
   "outputs": [
    {
     "data": {
      "text/plain": [
       "[14, 84, 76, 26, 50, 45, 65, 79, 10, 3]"
      ]
     },
     "execution_count": 22,
     "metadata": {},
     "output_type": "execute_result"
    }
   ],
   "source": [
    "import random\n",
    "\n",
    "random.seed(1)\n",
    "arr = random.choices(list(range(1, 100)), k=10)\n",
    "arr"
   ]
  },
  {
   "cell_type": "code",
   "execution_count": 29,
   "id": "282dc381-c47b-4dac-835a-a730e602b36d",
   "metadata": {},
   "outputs": [
    {
     "name": "stdout",
     "output_type": "stream",
     "text": [
      "CPU times: user 28 µs, sys: 0 ns, total: 28 µs\n",
      "Wall time: 42 µs\n"
     ]
    },
    {
     "data": {
      "text/plain": [
       "[3, 10, 14, 26, 45, 50, 65, 76, 79, 84]"
      ]
     },
     "execution_count": 29,
     "metadata": {},
     "output_type": "execute_result"
    }
   ],
   "source": [
    "%%time\n",
    "selection_sort_1(arr)"
   ]
  },
  {
   "cell_type": "code",
   "execution_count": 30,
   "id": "65eeca61-055c-4ad9-bf0e-ddc13d6cede0",
   "metadata": {},
   "outputs": [
    {
     "name": "stdout",
     "output_type": "stream",
     "text": [
      "CPU times: user 32 µs, sys: 0 ns, total: 32 µs\n",
      "Wall time: 36.5 µs\n"
     ]
    },
    {
     "data": {
      "text/plain": [
       "[3, 10, 14, 26, 45, 50, 65, 76, 79, 84]"
      ]
     },
     "execution_count": 30,
     "metadata": {},
     "output_type": "execute_result"
    }
   ],
   "source": [
    "%%time\n",
    "selection_sort_2(arr)"
   ]
  }
 ],
 "metadata": {
  "kernelspec": {
   "display_name": "Python 3 (ipykernel)",
   "language": "python",
   "name": "python3"
  },
  "language_info": {
   "codemirror_mode": {
    "name": "ipython",
    "version": 3
   },
   "file_extension": ".py",
   "mimetype": "text/x-python",
   "name": "python",
   "nbconvert_exporter": "python",
   "pygments_lexer": "ipython3",
   "version": "3.9.9"
  }
 },
 "nbformat": 4,
 "nbformat_minor": 5
}
