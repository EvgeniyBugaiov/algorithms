{
 "cells": [
  {
   "cell_type": "code",
   "execution_count": 4,
   "id": "39eebece-1c54-4239-b9ad-50e759623849",
   "metadata": {},
   "outputs": [],
   "source": [
    "from typing import List\n",
    "\n",
    "def quick_sort(arr: List[int]) -> List[int]:\n",
    "    if len(arr) < 2:\n",
    "        return arr\n",
    "    else:\n",
    "        el = arr[0]\n",
    "        less = [i for i in arr[1:] if i < el]\n",
    "        more = [j for j in arr[1:] if j > el]\n",
    "    return quick_sort(less) + [el] + quick_sort(more)"
   ]
  },
  {
   "cell_type": "code",
   "execution_count": 5,
   "id": "3e497a73-5e41-4c40-bc7c-dd8c99818a47",
   "metadata": {},
   "outputs": [
    {
     "name": "stdout",
     "output_type": "stream",
     "text": [
      "[14, 84, 76, 26, 50, 45, 65, 79, 10, 3]\n",
      "[3, 10, 14, 26, 45, 50, 65, 76, 79, 84]\n"
     ]
    }
   ],
   "source": [
    "import random\n",
    "\n",
    "random.seed(1)\n",
    "arr = random.choices(range(1, 100), k=10)\n",
    "print(arr)\n",
    "print(quick_sort(arr))"
   ]
  }
 ],
 "metadata": {
  "kernelspec": {
   "display_name": "Python 3 (ipykernel)",
   "language": "python",
   "name": "python3"
  },
  "language_info": {
   "codemirror_mode": {
    "name": "ipython",
    "version": 3
   },
   "file_extension": ".py",
   "mimetype": "text/x-python",
   "name": "python",
   "nbconvert_exporter": "python",
   "pygments_lexer": "ipython3",
   "version": "3.9.9"
  }
 },
 "nbformat": 4,
 "nbformat_minor": 5
}
