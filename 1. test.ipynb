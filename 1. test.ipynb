{
 "cells": [
  {
   "cell_type": "markdown",
   "id": "31df7d45-2e21-42eb-ba03-641c3cd1b9ae",
   "metadata": {},
   "source": [
    "<h2 style=\"color: greenYellow\">D</h2>"
   ]
  },
  {
   "cell_type": "code",
   "execution_count": 2,
   "id": "8938e1a5-df86-4ccf-b760-e799db4b9743",
   "metadata": {},
   "outputs": [],
   "source": [
    "def del_zeros(scores: str) -> str:\n",
    "    scores = ' '.join([score for score in scores.split(' ') if int(score) != 0])\n",
    "    return scores\n",
    "\n",
    "assert del_zeros('-1 0 0 1 2 -1 -4 0') == '-1 1 2 -1 -4'"
   ]
  },
  {
   "cell_type": "markdown",
   "id": "f914a71c-37fa-4a1c-a44c-9eaeb9542a14",
   "metadata": {},
   "source": [
    "<h2 style=\"color: greenYellow\">F</h2>"
   ]
  },
  {
   "cell_type": "code",
   "execution_count": 20,
   "id": "ba900a9c-cd74-474a-859f-b1b58bbb765d",
   "metadata": {},
   "outputs": [],
   "source": [
    "from collections import Counter\n",
    "\n",
    "def data_base(id: list[id]) -> int:\n",
    "    ids = Counter(id)\n",
    "    return ids.most_common(1)[0][0]"
   ]
  },
  {
   "cell_type": "code",
   "execution_count": 23,
   "id": "b138fa0d-ed6d-4524-b34a-3480851aa07e",
   "metadata": {},
   "outputs": [],
   "source": [
    "assert data_base([3, 1, 3, 4, 2]) == 3\n",
    "assert data_base([2, 8, 8]) == 8"
   ]
  },
  {
   "cell_type": "markdown",
   "id": "c469a7a3-d165-4e02-aafe-34a5bbc32137",
   "metadata": {},
   "source": [
    "<h2 style=\"color: greenYellow\">G</h2>"
   ]
  },
  {
   "cell_type": "code",
   "execution_count": 25,
   "id": "5c25ad19-4877-468b-8663-67f90c6fd7ef",
   "metadata": {},
   "outputs": [],
   "source": [
    "def anagram(word_one: str, word_two: str) -> bool:\n",
    "    if len(word_one) != len(word_two):\n",
    "        return False\n",
    "    tmp = word_two\n",
    "    for ch in word_one:\n",
    "        tmp = tmp.replace(ch, '')\n",
    "    return not tmp"
   ]
  },
  {
   "cell_type": "code",
   "execution_count": 30,
   "id": "4c58b9a2-1d47-4022-b646-dd8e88a6640a",
   "metadata": {},
   "outputs": [],
   "source": [
    "assert anagram('кошка', 'лошка') == False\n",
    "assert anagram('мошкара', 'ромашка') == True"
   ]
  },
  {
   "cell_type": "markdown",
   "id": "9a9d5aab-9437-46cb-9841-4bb1c7c8c7b4",
   "metadata": {},
   "source": [
    "<h2 style=\"color: greenYellow\">H</h2>"
   ]
  },
  {
   "cell_type": "code",
   "execution_count": 35,
   "id": "5c86eee7-3e61-4967-a853-da2335b66011",
   "metadata": {},
   "outputs": [],
   "source": [
    "from string import punctuation\n",
    "\n",
    "def palindrome(string: str) -> bool:\n",
    "    tmp = [ch for ch in string.lower().replace(' ', '') if ch not in punctuation]\n",
    "    return tmp == tmp[::-1]"
   ]
  },
  {
   "cell_type": "code",
   "execution_count": 37,
   "id": "e20f560e-d495-4b41-97ee-b5ca3366a6a7",
   "metadata": {},
   "outputs": [],
   "source": [
    "assert palindrome('A man, a plan, a canal: Panama') == True\n",
    "assert palindrome('zo') == False"
   ]
  },
  {
   "cell_type": "markdown",
   "id": "564437b6-5ad0-45a4-b92d-fbc2595eb4ad",
   "metadata": {},
   "source": [
    "<h2 style=\"color: greenYellow\">J</h2>"
   ]
  },
  {
   "cell_type": "code",
   "execution_count": 40,
   "id": "36b2a5b2-7a11-4a1c-8708-79e81a6b9787",
   "metadata": {},
   "outputs": [],
   "source": [
    "from collections import Counter\n",
    "\n",
    "def not_dublicate(arr: list[int]) -> int:\n",
    "    tmp = Counter(arr)\n",
    "    return [key for key, value in tmp.items() if value == 1][0]"
   ]
  },
  {
   "cell_type": "code",
   "execution_count": 42,
   "id": "42f0c479-cc92-4365-ae82-737cae22681e",
   "metadata": {},
   "outputs": [
    {
     "ename": "IndexError",
     "evalue": "list index out of range",
     "output_type": "error",
     "traceback": [
      "\u001b[0;31m---------------------------------------------------------------------------\u001b[0m",
      "\u001b[0;31mIndexError\u001b[0m                                Traceback (most recent call last)",
      "Input \u001b[0;32mIn [42]\u001b[0m, in \u001b[0;36m<module>\u001b[0;34m\u001b[0m\n\u001b[1;32m      1\u001b[0m \u001b[38;5;28;01massert\u001b[39;00m not_dublicate([\u001b[38;5;241m4\u001b[39m, \u001b[38;5;241m1\u001b[39m, \u001b[38;5;241m2\u001b[39m, \u001b[38;5;241m1\u001b[39m, \u001b[38;5;241m2\u001b[39m]) \u001b[38;5;241m==\u001b[39m \u001b[38;5;241m4\u001b[39m\n\u001b[0;32m----> 2\u001b[0m \u001b[38;5;28;01massert\u001b[39;00m \u001b[43mnot_dublicate\u001b[49m\u001b[43m(\u001b[49m\u001b[43m[\u001b[49m\u001b[38;5;241;43m42\u001b[39;49m\u001b[43m,\u001b[49m\u001b[43m \u001b[49m\u001b[38;5;241;43m67\u001b[39;49m\u001b[43m,\u001b[49m\u001b[43m \u001b[49m\u001b[38;5;241;43m67\u001b[39;49m\u001b[43m,\u001b[49m\u001b[43m \u001b[49m\u001b[38;5;241;43m42\u001b[39;49m\u001b[43m,\u001b[49m\u001b[43m \u001b[49m\u001b[38;5;241;43m42\u001b[39;49m\u001b[43m]\u001b[49m\u001b[43m)\u001b[49m \u001b[38;5;241m==\u001b[39m \u001b[38;5;241m42\u001b[39m\n",
      "Input \u001b[0;32mIn [40]\u001b[0m, in \u001b[0;36mnot_dublicate\u001b[0;34m(arr)\u001b[0m\n\u001b[1;32m      3\u001b[0m \u001b[38;5;28;01mdef\u001b[39;00m \u001b[38;5;21mnot_dublicate\u001b[39m(arr: \u001b[38;5;28mlist\u001b[39m[\u001b[38;5;28mint\u001b[39m]) \u001b[38;5;241m-\u001b[39m\u001b[38;5;241m>\u001b[39m \u001b[38;5;28mint\u001b[39m:\n\u001b[1;32m      4\u001b[0m     tmp \u001b[38;5;241m=\u001b[39m Counter(arr)\n\u001b[0;32m----> 5\u001b[0m     \u001b[38;5;28;01mreturn\u001b[39;00m \u001b[43m[\u001b[49m\u001b[43mkey\u001b[49m\u001b[43m \u001b[49m\u001b[38;5;28;43;01mfor\u001b[39;49;00m\u001b[43m \u001b[49m\u001b[43mkey\u001b[49m\u001b[43m,\u001b[49m\u001b[43m \u001b[49m\u001b[43mvalue\u001b[49m\u001b[43m \u001b[49m\u001b[38;5;129;43;01min\u001b[39;49;00m\u001b[43m \u001b[49m\u001b[43mtmp\u001b[49m\u001b[38;5;241;43m.\u001b[39;49m\u001b[43mitems\u001b[49m\u001b[43m(\u001b[49m\u001b[43m)\u001b[49m\u001b[43m \u001b[49m\u001b[38;5;28;43;01mif\u001b[39;49;00m\u001b[43m \u001b[49m\u001b[43mvalue\u001b[49m\u001b[43m \u001b[49m\u001b[38;5;241;43m==\u001b[39;49m\u001b[43m \u001b[49m\u001b[38;5;241;43m1\u001b[39;49m\u001b[43m]\u001b[49m\u001b[43m[\u001b[49m\u001b[38;5;241;43m0\u001b[39;49m\u001b[43m]\u001b[49m\n",
      "\u001b[0;31mIndexError\u001b[0m: list index out of range"
     ]
    }
   ],
   "source": [
    "assert not_dublicate([4, 1, 2, 1, 2]) == 4\n",
    "assert not_dublicate([42, 67, 67, 42, 42]) == 42"
   ]
  }
 ],
 "metadata": {
  "kernelspec": {
   "display_name": "Python 3 (ipykernel)",
   "language": "python",
   "name": "python3"
  },
  "language_info": {
   "codemirror_mode": {
    "name": "ipython",
    "version": 3
   },
   "file_extension": ".py",
   "mimetype": "text/x-python",
   "name": "python",
   "nbconvert_exporter": "python",
   "pygments_lexer": "ipython3",
   "version": "3.9.9"
  }
 },
 "nbformat": 4,
 "nbformat_minor": 5
}
