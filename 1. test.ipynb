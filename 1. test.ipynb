{
 "cells": [
  {
   "cell_type": "markdown",
   "id": "31df7d45-2e21-42eb-ba03-641c3cd1b9ae",
   "metadata": {},
   "source": [
    "<h2 style=\"color: greenYellow\">D</h2>"
   ]
  },
  {
   "cell_type": "code",
   "execution_count": 2,
   "id": "8938e1a5-df86-4ccf-b760-e799db4b9743",
   "metadata": {},
   "outputs": [],
   "source": [
    "def del_zeros(scores: str) -> str:\n",
    "    scores = ' '.join([score for score in scores.split(' ') if int(score) != 0])\n",
    "    return scores\n",
    "\n",
    "assert del_zeros('-1 0 0 1 2 -1 -4 0') == '-1 1 2 -1 -4'"
   ]
  },
  {
   "cell_type": "markdown",
   "id": "f914a71c-37fa-4a1c-a44c-9eaeb9542a14",
   "metadata": {},
   "source": [
    "<h2 style=\"color: greenYellow\">F</h2>"
   ]
  },
  {
   "cell_type": "code",
   "execution_count": 20,
   "id": "ba900a9c-cd74-474a-859f-b1b58bbb765d",
   "metadata": {},
   "outputs": [],
   "source": [
    "from collections import Counter\n",
    "\n",
    "def data_base(id: list[id]) -> int:\n",
    "    ids = Counter(id)\n",
    "    return ids.most_common(1)[0][0]"
   ]
  },
  {
   "cell_type": "code",
   "execution_count": 23,
   "id": "b138fa0d-ed6d-4524-b34a-3480851aa07e",
   "metadata": {},
   "outputs": [],
   "source": [
    "assert data_base([3, 1, 3, 4, 2]) == 3\n",
    "assert data_base([2, 8, 8]) == 8"
   ]
  },
  {
   "cell_type": "markdown",
   "id": "c469a7a3-d165-4e02-aafe-34a5bbc32137",
   "metadata": {},
   "source": [
    "<h2 style=\"color: greenYellow\">G</h2>"
   ]
  },
  {
   "cell_type": "code",
   "execution_count": 25,
   "id": "5c25ad19-4877-468b-8663-67f90c6fd7ef",
   "metadata": {},
   "outputs": [],
   "source": [
    "def anagram(word_one: str, word_two: str) -> bool:\n",
    "    if len(word_one) != len(word_two):\n",
    "        return False\n",
    "    tmp = word_two\n",
    "    for ch in word_one:\n",
    "        tmp = tmp.replace(ch, '')\n",
    "    return not tmp"
   ]
  },
  {
   "cell_type": "code",
   "execution_count": 30,
   "id": "4c58b9a2-1d47-4022-b646-dd8e88a6640a",
   "metadata": {},
   "outputs": [],
   "source": [
    "assert anagram('кошка', 'лошка') == False\n",
    "assert anagram('мошкара', 'ромашка') == True"
   ]
  },
  {
   "cell_type": "markdown",
   "id": "9a9d5aab-9437-46cb-9841-4bb1c7c8c7b4",
   "metadata": {},
   "source": [
    "<h2 style=\"color: greenYellow\">H</h2>"
   ]
  },
  {
   "cell_type": "code",
   "execution_count": 35,
   "id": "5c86eee7-3e61-4967-a853-da2335b66011",
   "metadata": {},
   "outputs": [],
   "source": [
    "from string import punctuation\n",
    "\n",
    "def palindrome(string: str) -> bool:\n",
    "    tmp = [ch for ch in string.lower().replace(' ', '') if ch not in punctuation]\n",
    "    return tmp == tmp[::-1]"
   ]
  },
  {
   "cell_type": "code",
   "execution_count": 37,
   "id": "e20f560e-d495-4b41-97ee-b5ca3366a6a7",
   "metadata": {},
   "outputs": [],
   "source": [
    "assert palindrome('A man, a plan, a canal: Panama') == True\n",
    "assert palindrome('zo') == False"
   ]
  },
  {
   "cell_type": "markdown",
   "id": "564437b6-5ad0-45a4-b92d-fbc2595eb4ad",
   "metadata": {},
   "source": [
    "<h2 style=\"color: greenYellow\">J</h2>"
   ]
  },
  {
   "cell_type": "code",
   "execution_count": 43,
   "id": "36b2a5b2-7a11-4a1c-8708-79e81a6b9787",
   "metadata": {},
   "outputs": [],
   "source": [
    "from collections import Counter\n",
    "\n",
    "def not_dublicate(arr: list[int]) -> int:\n",
    "    tmp = Counter(arr)\n",
    "    return [key for key, value in tmp.items() if value != 2][0]"
   ]
  },
  {
   "cell_type": "code",
   "execution_count": 44,
   "id": "42f0c479-cc92-4365-ae82-737cae22681e",
   "metadata": {},
   "outputs": [],
   "source": [
    "assert not_dublicate([4, 1, 2, 1, 2]) == 4\n",
    "assert not_dublicate([42, 67, 67, 42, 42]) == 42"
   ]
  },
  {
   "cell_type": "markdown",
   "id": "09e4d792-5ade-4c40-be13-e01d03b7f804",
   "metadata": {},
   "source": [
    "<h2 style=\"color: greenYellow\">K</h2>"
   ]
  },
  {
   "cell_type": "code",
   "execution_count": 13,
   "id": "aa172608-1740-4b61-bbf4-c99d4dfae27a",
   "metadata": {},
   "outputs": [],
   "source": [
    "def ones(num: int) -> int:\n",
    "    return len([one for one in bin(num)[2:] if one == '1'])\n",
    "\n",
    "assert ones(5) == 2\n",
    "assert ones(12) == 2"
   ]
  },
  {
   "cell_type": "markdown",
   "id": "d56eccba-e937-4801-891d-9c15f925b121",
   "metadata": {},
   "source": [
    "<h2 style=\"color: greenYellow\">M ?</h2>"
   ]
  },
  {
   "cell_type": "code",
   "execution_count": 64,
   "id": "964b44f8-614b-4a50-ad90-e742f8bd1477",
   "metadata": {},
   "outputs": [],
   "source": [
    "from collections import Counter\n",
    "\n",
    "def frequencies(string: str) -> str:\n",
    "    count = Counter(string)\n",
    "    return sorted(''.join([ch * cnt for ch,cnt in count.most_common()]))"
   ]
  },
  {
   "cell_type": "markdown",
   "id": "ba9d4154-7d1d-42f0-bc2c-e4abd7de97c7",
   "metadata": {},
   "source": [
    "<h2 style=\"color: greenYellow\">P ?</h2>"
   ]
  },
  {
   "cell_type": "code",
   "execution_count": 92,
   "id": "b1cf0b7d-3785-487d-8fb6-2aa79049b02a",
   "metadata": {},
   "outputs": [],
   "source": [
    "from itertools import combinations\n",
    "\n",
    "def comb(string: str) -> str:\n",
    "    buttons = {'2': 'abc', '3': 'def', '4': 'ghi', '5': 'jkl', '6': 'mno', '7': 'pqrs', '8': 'tuv', '9': 'wxyz'}\n",
    "    for num in string:\n",
    "        for ch in button.get(num):\n",
    "            \n",
    "    return list(combinations([buttons.get(i) for i in string], len(string)))"
   ]
  },
  {
   "cell_type": "code",
   "execution_count": 93,
   "id": "5cd928ac-28b1-4f44-a6ef-b3716fe26316",
   "metadata": {},
   "outputs": [
    {
     "data": {
      "text/plain": [
       "[('abc', 'def')]"
      ]
     },
     "execution_count": 93,
     "metadata": {},
     "output_type": "execute_result"
    }
   ],
   "source": [
    "comb('23')"
   ]
  }
 ],
 "metadata": {
  "kernelspec": {
   "display_name": "Python 3 (ipykernel)",
   "language": "python",
   "name": "python3"
  },
  "language_info": {
   "codemirror_mode": {
    "name": "ipython",
    "version": 3
   },
   "file_extension": ".py",
   "mimetype": "text/x-python",
   "name": "python",
   "nbconvert_exporter": "python",
   "pygments_lexer": "ipython3",
   "version": "3.9.9"
  }
 },
 "nbformat": 4,
 "nbformat_minor": 5
}
