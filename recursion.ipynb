{
 "cells": [
  {
   "cell_type": "code",
   "execution_count": 2,
   "id": "7619c3c7-71a2-4e9f-84ec-c940c124993a",
   "metadata": {},
   "outputs": [],
   "source": [
    "from typing import List\n",
    "\n",
    "def sum_recursion(arr: List[int]) -> int:\n",
    "    if len(arr) == 0:\n",
    "        return 0\n",
    "    if len(arr) == 1:\n",
    "        return arr[0]\n",
    "    return arr[0] + sum(arr[1:])"
   ]
  },
  {
   "cell_type": "code",
   "execution_count": 4,
   "id": "92d60ebc-d4dc-4305-8e0e-2dcf956127d0",
   "metadata": {},
   "outputs": [],
   "source": [
    "assert sum_recursion([1, 2, 3]) == 6\n",
    "assert sum_recursion([]) == 0"
   ]
  },
  {
   "cell_type": "code",
   "execution_count": null,
   "id": "6ff56fce-727c-4d4d-927d-6b636ab32993",
   "metadata": {},
   "outputs": [],
   "source": []
  }
 ],
 "metadata": {
  "kernelspec": {
   "display_name": "Python 3 (ipykernel)",
   "language": "python",
   "name": "python3"
  },
  "language_info": {
   "codemirror_mode": {
    "name": "ipython",
    "version": 3
   },
   "file_extension": ".py",
   "mimetype": "text/x-python",
   "name": "python",
   "nbconvert_exporter": "python",
   "pygments_lexer": "ipython3",
   "version": "3.9.9"
  }
 },
 "nbformat": 4,
 "nbformat_minor": 5
}
