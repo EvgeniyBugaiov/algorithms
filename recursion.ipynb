{
 "cells": [
  {
   "cell_type": "code",
   "execution_count": 8,
   "id": "7619c3c7-71a2-4e9f-84ec-c940c124993a",
   "metadata": {},
   "outputs": [],
   "source": [
    "def recursion_sum(arr: list[int]) -> int:\n",
    "    if len(arr) == 0:\n",
    "        return 0\n",
    "    if len(arr) == 1:\n",
    "        return arr[0]\n",
    "    return arr[0] + sum(arr[1:])"
   ]
  },
  {
   "cell_type": "code",
   "execution_count": 9,
   "id": "92d60ebc-d4dc-4305-8e0e-2dcf956127d0",
   "metadata": {},
   "outputs": [],
   "source": [
    "assert recursion_sum([1, 2, 3]) == 6\n",
    "assert recursion_sum([]) == 0"
   ]
  },
  {
   "cell_type": "code",
   "execution_count": 4,
   "id": "0ec2e645-1605-41a7-853b-32dbf15c2940",
   "metadata": {},
   "outputs": [],
   "source": [
    "def max_common_divisor(num1: int, num2: int) -> int:\n",
    "    if num1 % num2 == 0:\n",
    "        return num2\n",
    "    return max_common_divisor(num2, num1 % num2)"
   ]
  },
  {
   "cell_type": "code",
   "execution_count": 5,
   "id": "89705048-8cbb-460a-87fa-311d4ff2d175",
   "metadata": {},
   "outputs": [],
   "source": [
    "assert max_common_divisor(2400, 820) == 20"
   ]
  },
  {
   "cell_type": "code",
   "execution_count": 11,
   "id": "0cc4b50f-8d44-49bb-b63e-347e107e8563",
   "metadata": {},
   "outputs": [],
   "source": [
    "def recursion_binary_search(arr, val, l, r):\n",
    "    if r >= l:\n",
    "        mid = l + (r - l) // 2\n",
    "        if arr[mid] == val:\n",
    "            return mid\n",
    "        elif arr[mid] > val:\n",
    "            return recursion_binary_search(arr, val, l, mid - 1)\n",
    "        else:\n",
    "            return recursion_binary_search(arr, val, mid + 1, r)\n",
    "    else:\n",
    "        return -1"
   ]
  },
  {
   "cell_type": "code",
   "execution_count": 12,
   "id": "4b192439-2127-43b5-9a7c-de7cf091ad68",
   "metadata": {},
   "outputs": [],
   "source": [
    "arr = [1, 2, 3, 4, 5]\n",
    "assert recursion_binary_search(arr, 3, 0, len(arr) - 1) == 2"
   ]
  },
  {
   "cell_type": "code",
   "execution_count": 13,
   "id": "1fb2af88-75e6-4519-9558-3277242c0abe",
   "metadata": {},
   "outputs": [],
   "source": [
    "def recursion_pow(x, n):\n",
    "    if n == 0:\n",
    "        return 1\n",
    "    if n % 2:\n",
    "        return x * recursion_pow(x, n - 1)\n",
    "    else:\n",
    "        m = recursion_pow(x, n // 2)\n",
    "        return m * m"
   ]
  },
  {
   "cell_type": "code",
   "execution_count": 16,
   "id": "98528983-1c5b-4372-967a-a445a2706051",
   "metadata": {},
   "outputs": [],
   "source": [
    "assert recursion_pow(2, 5) == 32\n",
    "assert recursion_pow(2, 4) == 16"
   ]
  },
  {
   "cell_type": "code",
   "execution_count": 38,
   "id": "b413635e-662c-49ea-b0ea-e84480f13ce5",
   "metadata": {},
   "outputs": [],
   "source": [
    "def recursion_fibonacci(n):\n",
    "    if n <= 1:\n",
    "        return 1\n",
    "    else:\n",
    "        return fibonacci(n - 2) + fibonacci(n - 1)"
   ]
  },
  {
   "cell_type": "code",
   "execution_count": 39,
   "id": "dc36530a-a68f-4f3b-81a8-015fbae5fa66",
   "metadata": {},
   "outputs": [],
   "source": [
    "assert recursion_fibonacci(3) == 3\n",
    "assert recursion_fibonacci(0) == 1"
   ]
  },
  {
   "cell_type": "code",
   "execution_count": null,
   "id": "dcab155e-6f43-4277-b017-7268c41714e1",
   "metadata": {},
   "outputs": [],
   "source": []
  }
 ],
 "metadata": {
  "kernelspec": {
   "display_name": "Python 3 (ipykernel)",
   "language": "python",
   "name": "python3"
  },
  "language_info": {
   "codemirror_mode": {
    "name": "ipython",
    "version": 3
   },
   "file_extension": ".py",
   "mimetype": "text/x-python",
   "name": "python",
   "nbconvert_exporter": "python",
   "pygments_lexer": "ipython3",
   "version": "3.9.9"
  }
 },
 "nbformat": 4,
 "nbformat_minor": 5
}
