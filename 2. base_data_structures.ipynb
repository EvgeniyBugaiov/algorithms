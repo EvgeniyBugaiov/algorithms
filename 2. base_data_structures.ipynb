{
 "cells": [
  {
   "cell_type": "markdown",
   "id": "79c54c7b-2fff-4af8-a6e1-527292acbebb",
   "metadata": {},
   "source": [
    "<h2 style=\"color: greenYellow\">A</h2>"
   ]
  },
  {
   "cell_type": "code",
   "execution_count": 14,
   "id": "b62e3eef-5ef0-4adb-83ea-cb463e530121",
   "metadata": {},
   "outputs": [],
   "source": [
    "def unique_optional_courses(courses: list[str]) -> list[str]:\n",
    "    for i in range(len(courses)):\n",
    "        for j in range(i + 1, len(courses)):\n",
    "            if courses[i] == courses[j]:\n",
    "                courses[j] = ''\n",
    "    return [item for item in courses if item]"
   ]
  },
  {
   "cell_type": "code",
   "execution_count": 16,
   "id": "3c9272ed-65e4-4f68-9a21-4f5fc464e78b",
   "metadata": {},
   "outputs": [],
   "source": [
    "arr = ['1', '1', '2', '3', '4', '2', '3']\n",
    "assert unique_optional_courses(arr) == ['1', '2', '3', '4']"
   ]
  },
  {
   "cell_type": "markdown",
   "id": "80832780-a7c8-4f58-88c6-da0099f865c3",
   "metadata": {},
   "source": [
    "<h2 style=\"color: greenYellow\">B</h2>"
   ]
  },
  {
   "cell_type": "code",
   "execution_count": 34,
   "id": "7c89ccc2-ab09-40f6-b69b-9c448b69f7e1",
   "metadata": {},
   "outputs": [],
   "source": [
    "def transpose(matrix: list[list]) -> list[list]:\n",
    "    t_matrix = [[matrix[j][i] for j in range(len(matrix))]\n",
    "                for i in range(len(matrix[0]))]\n",
    "    return t_matrix"
   ]
  },
  {
   "cell_type": "code",
   "execution_count": 36,
   "id": "a77fbfd0-a9ac-4a9e-8441-1e47ac26c83d",
   "metadata": {},
   "outputs": [],
   "source": [
    "matrix = [[1, 2, 3], [4, 5, 6]]\n",
    "assert transpose(matrix) == [[1, 4], [2, 5], [3, 6]]"
   ]
  },
  {
   "cell_type": "markdown",
   "id": "4678779b-3c2f-4513-a95a-6e9f5ce6a619",
   "metadata": {},
   "source": [
    "<h2 style=\"color: greenYellow\">C</h2>"
   ]
  },
  {
   "cell_type": "code",
   "execution_count": 40,
   "id": "b16352ce-cdd3-4f7e-b677-62a37d8afd2b",
   "metadata": {},
   "outputs": [],
   "source": [
    "def substring_max_length(string: str) -> int:\n",
    "    max_length = 0\n",
    "    substr = []\n",
    "    for ch in string:\n",
    "        if len(substr) == 0 or ch not in substr:\n",
    "            substr.append(ch)\n",
    "        else:\n",
    "            if len(substr) > max_length:\n",
    "                max_length = len(substr)\n",
    "    return max_length"
   ]
  },
  {
   "cell_type": "code",
   "execution_count": 41,
   "id": "6e91a79d-fcab-4ad9-9c11-1a3f8976b58b",
   "metadata": {},
   "outputs": [],
   "source": [
    "assert substring_max_length('abcabcbb') == 3\n",
    "assert substring_max_length('bbbbbb') == 1"
   ]
  },
  {
   "cell_type": "markdown",
   "id": "cd53b240-a367-4009-bf07-2c1f40e8e99b",
   "metadata": {},
   "source": [
    "<h2 style=\"color: greenYellow\">C</h2>"
   ]
  },
  {
   "cell_type": "code",
   "execution_count": null,
   "id": "7af0c67f-382f-431c-a601-9c068f6c661d",
   "metadata": {},
   "outputs": [],
   "source": []
  }
 ],
 "metadata": {
  "kernelspec": {
   "display_name": "Python 3 (ipykernel)",
   "language": "python",
   "name": "python3"
  },
  "language_info": {
   "codemirror_mode": {
    "name": "ipython",
    "version": 3
   },
   "file_extension": ".py",
   "mimetype": "text/x-python",
   "name": "python",
   "nbconvert_exporter": "python",
   "pygments_lexer": "ipython3",
   "version": "3.9.9"
  }
 },
 "nbformat": 4,
 "nbformat_minor": 5
}
