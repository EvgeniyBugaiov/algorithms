{
 "cells": [
  {
   "cell_type": "markdown",
   "id": "79c54c7b-2fff-4af8-a6e1-527292acbebb",
   "metadata": {},
   "source": [
    "<h2 style=\"color: greenYellow\">A</h2>"
   ]
  },
  {
   "cell_type": "code",
   "execution_count": 14,
   "id": "b62e3eef-5ef0-4adb-83ea-cb463e530121",
   "metadata": {
    "slideshow": {
     "slide_type": "fragment"
    },
    "tags": []
   },
   "outputs": [],
   "source": [
    "def unique_optional_courses(courses: list[str]) -> list[str]:\n",
    "    for i in range(len(courses)):\n",
    "        for j in range(i + 1, len(courses)):\n",
    "            if courses[i] == courses[j]:\n",
    "                courses[j] = ''\n",
    "    return [item for item in courses if item]"
   ]
  },
  {
   "cell_type": "code",
   "execution_count": 16,
   "id": "3c9272ed-65e4-4f68-9a21-4f5fc464e78b",
   "metadata": {},
   "outputs": [],
   "source": [
    "arr = ['1', '1', '2', '3', '4', '2', '3']\n",
    "assert unique_optional_courses(arr) == ['1', '2', '3', '4']"
   ]
  },
  {
   "cell_type": "markdown",
   "id": "80832780-a7c8-4f58-88c6-da0099f865c3",
   "metadata": {},
   "source": [
    "<h2 style=\"color: greenYellow\">B</h2>"
   ]
  },
  {
   "cell_type": "code",
   "execution_count": 34,
   "id": "7c89ccc2-ab09-40f6-b69b-9c448b69f7e1",
   "metadata": {},
   "outputs": [],
   "source": [
    "def transpose(matrix: list[list]) -> list[list]:\n",
    "    t_matrix = [[matrix[j][i] for j in range(len(matrix))]\n",
    "                for i in range(len(matrix[0]))]\n",
    "    return t_matrix"
   ]
  },
  {
   "cell_type": "code",
   "execution_count": 36,
   "id": "a77fbfd0-a9ac-4a9e-8441-1e47ac26c83d",
   "metadata": {},
   "outputs": [],
   "source": [
    "matrix = [[1, 2, 3], [4, 5, 6]]\n",
    "assert transpose(matrix) == [[1, 4], [2, 5], [3, 6]]"
   ]
  },
  {
   "cell_type": "markdown",
   "id": "4678779b-3c2f-4513-a95a-6e9f5ce6a619",
   "metadata": {},
   "source": [
    "<h2 style=\"color: greenYellow\">C</h2>"
   ]
  },
  {
   "cell_type": "code",
   "execution_count": 40,
   "id": "b16352ce-cdd3-4f7e-b677-62a37d8afd2b",
   "metadata": {},
   "outputs": [],
   "source": [
    "def substring_max_length(string: str) -> int:\n",
    "    max_length = 0\n",
    "    substr = []\n",
    "    for ch in string:\n",
    "        if len(substr) == 0 or ch not in substr:\n",
    "            substr.append(ch)\n",
    "        else:\n",
    "            if len(substr) > max_length:\n",
    "                max_length = len(substr)\n",
    "    return max_length"
   ]
  },
  {
   "cell_type": "code",
   "execution_count": 41,
   "id": "6e91a79d-fcab-4ad9-9c11-1a3f8976b58b",
   "metadata": {},
   "outputs": [],
   "source": [
    "assert substring_max_length('abcabcbb') == 3\n",
    "assert substring_max_length('bbbbbb') == 1"
   ]
  },
  {
   "cell_type": "markdown",
   "id": "fa1161c4-48c2-455e-b9d0-c137860ed69e",
   "metadata": {},
   "source": [
    "<h2 style=\"color: greenYellow\">D</h2>"
   ]
  },
  {
   "cell_type": "code",
   "execution_count": null,
   "id": "d429b5fb-9ff8-4685-8e26-ed9571fb5708",
   "metadata": {},
   "outputs": [],
   "source": [
    "def neighbours(matrix: list[list], x: int, y: int) -> list[int]:\n",
    "    pass"
   ]
  },
  {
   "cell_type": "code",
   "execution_count": null,
   "id": "159069e3-1b0a-4d9c-9f48-c6b362557c02",
   "metadata": {},
   "outputs": [],
   "source": [
    "assert neighbours([[1,2,3], [4,5,6], [7,8,9]], 0, 1) == [1, 3, 5]"
   ]
  },
  {
   "cell_type": "markdown",
   "id": "aa638d73-2855-43ce-a40d-2fb34bb7d4c3",
   "metadata": {},
   "source": [
    "<h2 style=\"color: greenYellow\">E</h2>"
   ]
  },
  {
   "cell_type": "code",
   "execution_count": 40,
   "id": "aa4cb37c-d41c-41b7-8f9b-675009238d90",
   "metadata": {},
   "outputs": [],
   "source": [
    "class Node:\n",
    "    def __init__(self, value, next_item=None):\n",
    "        self.value = value\n",
    "        self.next_item = next_item\n",
    "        \n",
    "    def __str__(self):\n",
    "        return self.value"
   ]
  },
  {
   "cell_type": "code",
   "execution_count": 41,
   "id": "9c6877ca-f8e0-49c5-a99f-081761ba6b75",
   "metadata": {},
   "outputs": [],
   "source": [
    "def print_nodes(head: object) -> None:\n",
    "    while head:\n",
    "        print(head)\n",
    "        head = head.next_item\n",
    "        \n",
    "def recursion_print_node(head: object) -> None:\n",
    "    if head:\n",
    "        print(head)\n",
    "        recursion_print_node(head.next_item)"
   ]
  },
  {
   "cell_type": "code",
   "execution_count": 42,
   "id": "ce35ec39-2ff8-4cd3-941c-5eed520b75ff",
   "metadata": {},
   "outputs": [
    {
     "name": "stdout",
     "output_type": "stream",
     "text": [
      "one\n",
      "two\n",
      "three\n"
     ]
    }
   ],
   "source": [
    "node3 = Node('three')\n",
    "node2 = Node('two', node3)\n",
    "node1 = Node('one', node2)\n",
    "\n",
    "print_nodes(node1)"
   ]
  },
  {
   "cell_type": "markdown",
   "id": "68182d6d-d834-4427-901c-47b99fcd9101",
   "metadata": {},
   "source": [
    "<h2 style=\"color: greenYellow\">F</h2>"
   ]
  },
  {
   "cell_type": "code",
   "execution_count": 44,
   "id": "98145a3e-73a5-4c97-8a8f-919fc0c3c974",
   "metadata": {},
   "outputs": [],
   "source": [
    "class Node:\n",
    "    def __init__(self, value, next_item=None):\n",
    "        self.value = value\n",
    "        self.next_item = next_item\n",
    "        \n",
    "    def __str__(self):\n",
    "        return self.value\n",
    "    \n",
    "    def __iter__(self):\n",
    "        item = self\n",
    "        while item:\n",
    "            yield item\n",
    "            item = item.next_item"
   ]
  },
  {
   "cell_type": "code",
   "execution_count": 38,
   "id": "759cba84-4bc6-4ba4-913d-c541e9d8822b",
   "metadata": {},
   "outputs": [],
   "source": [
    "def del_node(node: object, index: int) -> object:\n",
    "    head = node\n",
    "    if index == 0:\n",
    "        return node.next_item\n",
    "    while index:\n",
    "        index -= 1\n",
    "        prev_item = node\n",
    "        node = node.next_item\n",
    "    next_item = prev_item.next_item.next_item\n",
    "    prev_item.next_item = next_item\n",
    "    return head"
   ]
  },
  {
   "cell_type": "code",
   "execution_count": 46,
   "id": "e67ad1db-9b7d-40c4-a37c-47267445802c",
   "metadata": {},
   "outputs": [
    {
     "name": "stdout",
     "output_type": "stream",
     "text": [
      "one\n",
      "two\n",
      "three\n"
     ]
    }
   ],
   "source": [
    "node4 = Node('four')\n",
    "node3 = Node('three', node4)\n",
    "node2 = Node('two', node3)\n",
    "node1 = Node('one', node2)\n",
    "\n",
    "for i in del_node(node1, 3):\n",
    "    print(i)"
   ]
  },
  {
   "cell_type": "markdown",
   "id": "e53c4098-9290-462f-8dd9-e423e278a487",
   "metadata": {},
   "source": [
    "<h2 style=\"color: greenYellow\">G</h2>"
   ]
  },
  {
   "cell_type": "code",
   "execution_count": 50,
   "id": "f82d1004-2bdb-4e05-b8b1-8ef1fc6d0bcb",
   "metadata": {},
   "outputs": [],
   "source": [
    "class Node:\n",
    "    def __init__(self, value, next_item=None):\n",
    "        self.value = value\n",
    "        self.next_item = next_item"
   ]
  },
  {
   "cell_type": "code",
   "execution_count": 51,
   "id": "45bbd22b-8f8c-4be8-b556-fcad9e730cf8",
   "metadata": {},
   "outputs": [],
   "source": [
    "def index_node(node: object, value: str) -> int:\n",
    "    index = 0\n",
    "    while node:\n",
    "        if node.value == value:\n",
    "            return index\n",
    "        node = node.next_item\n",
    "        index += 1\n",
    "    return -1"
   ]
  },
  {
   "cell_type": "code",
   "execution_count": 56,
   "id": "3e0534ee-afa9-4686-bae1-949b02966a43",
   "metadata": {},
   "outputs": [],
   "source": [
    "node4 = Node('four')\n",
    "node3 = Node('three', node4)\n",
    "node2 = Node('two', node3)\n",
    "node1 = Node('one', node2)\n",
    "\n",
    "assert index_node(node1, 'three') == 2\n",
    "assert index_node(node1, 'five') == -1"
   ]
  },
  {
   "cell_type": "markdown",
   "id": "d892086a-462a-4810-b3db-b2a73e45ec7f",
   "metadata": {},
   "source": [
    "<h2 style=\"color: greenYellow\">H</h2>"
   ]
  },
  {
   "cell_type": "code",
   "execution_count": 57,
   "id": "67c1ef8c-fe8b-4970-b44a-f4c3c1b2d0a0",
   "metadata": {},
   "outputs": [],
   "source": [
    "class DoubleConnectedNode:\n",
    "    def __init__(self, value, _next=None, _prev=None):\n",
    "        self.value = value\n",
    "        self._next = _next\n",
    "        self._prev = _prev"
   ]
  },
  {
   "cell_type": "code",
   "execution_count": null,
   "id": "19147aae-c763-47c5-973e-00508cb59347",
   "metadata": {},
   "outputs": [],
   "source": [
    "def reverse_node(node):\n",
    "    pass"
   ]
  },
  {
   "cell_type": "markdown",
   "id": "b1f005db-ac58-446d-b226-18dd1bf08d5c",
   "metadata": {},
   "source": [
    "<h2 style=\"color: greenYellow\">I</h2>"
   ]
  },
  {
   "cell_type": "code",
   "execution_count": 71,
   "id": "d54d5f6b-1ada-4b95-9d70-23944843e068",
   "metadata": {},
   "outputs": [],
   "source": [
    "class StackMax:\n",
    "    def __init__(self):\n",
    "        self.stack = []\n",
    "        \n",
    "    def push(self, item):\n",
    "        self.stack.append(item)\n",
    "    \n",
    "    def pop(self):\n",
    "        return self.stack.pop()\n",
    "    \n",
    "    def get_max(self):\n",
    "        if not self.stack:\n",
    "            return None\n",
    "        max_item = self.stack[0]\n",
    "        for i in range(1, len(self.stack)):\n",
    "            if self.stack[i] > max_item:\n",
    "                max_item = self.stack[i]\n",
    "        return max_item\n",
    "    \n",
    "    def __str__(self):\n",
    "        return ' '.join([str(i) for i in self.stack])"
   ]
  },
  {
   "cell_type": "code",
   "execution_count": 72,
   "id": "d5cb1597-68ab-48ef-895c-13a75f0c2bb2",
   "metadata": {},
   "outputs": [],
   "source": [
    "sm = StackMax()\n",
    "\n",
    "sm.push(4)\n",
    "sm.push(3)\n",
    "sm.push(2)\n",
    "sm.push(-10)\n",
    "sm.pop()\n",
    "\n",
    "assert sm.get_max() == 4"
   ]
  },
  {
   "cell_type": "markdown",
   "id": "e4d35f19-9768-4371-ab4b-92ca109a34de",
   "metadata": {},
   "source": [
    "<h2 style=\"color: greenYellow\">J</h2>"
   ]
  },
  {
   "cell_type": "code",
   "execution_count": 126,
   "id": "6ab68081-e12a-4d22-adc8-ff763b55aaa7",
   "metadata": {},
   "outputs": [],
   "source": [
    "class StackMaxEffective:\n",
    "    def __init__(self):\n",
    "        self.stack = []\n",
    "        self.maximum = None\n",
    "        \n",
    "    def __str__(self):\n",
    "        return ' '.join([str(i) for i in self.stack])\n",
    "        \n",
    "    def push(self, item):\n",
    "        if self.maximum is None:\n",
    "            self.maximum = item\n",
    "            self.stack.append(item)\n",
    "        elif item > self.maximum:\n",
    "            self.maximum = item\n",
    "            self.stack.append(2 * item - self.maximum)\n",
    "        else:\n",
    "            self.stack.append(item)\n",
    "            \n",
    "        \n",
    "    def pop(self):\n",
    "        try:\n",
    "            item = self.stack.pop()\n",
    "            if item > self.maximum:\n",
    "                self.maximum = 2 * self.maximum - item\n",
    "        except IndexError:\n",
    "            print('error')\n",
    "    \n",
    "    def get_max(self):\n",
    "        if not self.stack:\n",
    "            print(None)\n",
    "        else:\n",
    "            return self.maximum"
   ]
  },
  {
   "cell_type": "code",
   "execution_count": 127,
   "id": "d63478c2-3d01-48e5-b6de-062cf80dea8f",
   "metadata": {},
   "outputs": [
    {
     "name": "stdout",
     "output_type": "stream",
     "text": [
      "error\n",
      "error\n"
     ]
    },
    {
     "data": {
      "text/plain": [
       "10"
      ]
     },
     "execution_count": 127,
     "metadata": {},
     "output_type": "execute_result"
    }
   ],
   "source": [
    "sme = StackMaxEffective()\n",
    "\n",
    "sme.pop()\n",
    "sme.pop()\n",
    "sme.push(4)\n",
    "sme.push(10)\n",
    "sme.pop()\n",
    "sme.get_max()"
   ]
  },
  {
   "cell_type": "markdown",
   "id": "cc091ef0-0232-4f7e-9edc-1a0b97107161",
   "metadata": {},
   "source": [
    "<h2 style=\"color: greenYellow\">K</h2>"
   ]
  },
  {
   "cell_type": "code",
   "execution_count": 136,
   "id": "ab3aa111-35e5-4a69-8f71-a5b231c0d2e1",
   "metadata": {},
   "outputs": [],
   "source": [
    "class StackSet:\n",
    "    def __init__(self):\n",
    "        self.items = []\n",
    "        \n",
    "    def push(self, value):\n",
    "        if value not in self.items:\n",
    "            self.items.append(value)\n",
    "        \n",
    "    def pop(self):\n",
    "        try:\n",
    "            self.items.pop()\n",
    "        except IndexError:\n",
    "            print(error)\n",
    "    \n",
    "    def peek(self):\n",
    "        print(self.items[-1])\n",
    "    \n",
    "    def size(self):\n",
    "        print(len(self.items))"
   ]
  },
  {
   "cell_type": "code",
   "execution_count": 140,
   "id": "d2df26b7-baa8-4181-9da0-ae8c170416bc",
   "metadata": {},
   "outputs": [
    {
     "name": "stdout",
     "output_type": "stream",
     "text": [
      "2\n",
      "2\n",
      "1\n"
     ]
    }
   ],
   "source": [
    "ss = StackSet()\n",
    "\n",
    "ss.push(1)\n",
    "ss.push(2)\n",
    "ss.size()\n",
    "ss.push(2)\n",
    "ss.size()\n",
    "ss.pop()\n",
    "ss.push(1)\n",
    "ss.size()"
   ]
  },
  {
   "cell_type": "markdown",
   "id": "b8ca6365-831e-45d8-9eb8-c425d5bbb236",
   "metadata": {},
   "source": [
    "<h2 style=\"color: greenYellow\">M</h2>"
   ]
  },
  {
   "cell_type": "code",
   "execution_count": 162,
   "id": "cf821b44-9169-415a-a11a-f10cac61c257",
   "metadata": {},
   "outputs": [],
   "source": [
    "class MyQueue:\n",
    "    def __init__(self):\n",
    "        self.items = []\n",
    "        self.head = 0\n",
    "        self._size = 0\n",
    "        \n",
    "    def is_empty(self):\n",
    "        return self._size == 0\n",
    "    \n",
    "    def size(self):\n",
    "        return self._size\n",
    "    \n",
    "    def peek(self):\n",
    "        print(self.items[self.head])\n",
    "    \n",
    "    def push(self, value):\n",
    "        self.items.append(value)\n",
    "        self._size += 1\n",
    "        \n",
    "    def get(self):\n",
    "        if self.is_empty():\n",
    "            print(None)\n",
    "            return\n",
    "        self._size -= 1\n",
    "        print(self.items[self.head])\n",
    "        self.items[self.head] = None\n",
    "        self.head += 1"
   ]
  },
  {
   "cell_type": "code",
   "execution_count": 165,
   "id": "f6119a92-d8b7-4f85-b2fc-897e386743eb",
   "metadata": {},
   "outputs": [
    {
     "name": "stdout",
     "output_type": "stream",
     "text": [
      "0\n",
      "2\n"
     ]
    }
   ],
   "source": [
    "mq = MyQueue()\n",
    "\n",
    "mq.size()\n",
    "mq.push(0)\n",
    "mq.get()\n",
    "mq.push(2)\n",
    "mq.size()\n",
    "mq.peek()"
   ]
  },
  {
   "cell_type": "markdown",
   "id": "86941d25-bbf3-4740-8e79-19cab7831755",
   "metadata": {},
   "source": [
    "<h2 style=\"color: greenYellow\">N</h2>"
   ]
  },
  {
   "cell_type": "code",
   "execution_count": 201,
   "id": "11a100f0-df6e-4aac-adc4-e7a1b8bb3b6e",
   "metadata": {},
   "outputs": [],
   "source": [
    "class MyQueueSized:\n",
    "    def __init__(self, n):\n",
    "        self.items = [None for _ in range(n)]\n",
    "        self.max_n = n\n",
    "        self.head = 0\n",
    "        self.tail = 0\n",
    "        self._size = 0\n",
    "        \n",
    "    def __str__(self):\n",
    "        return ' '.join([str(i) for i in self.items])\n",
    "    \n",
    "    def is_empty(self):\n",
    "        return self._size <= 0\n",
    "    \n",
    "    def peek(self):\n",
    "        try:\n",
    "            print(self.items[self.head])\n",
    "        except IndexError:\n",
    "            print(None)\n",
    "        \n",
    "    def size(self):\n",
    "        return self._size\n",
    "        \n",
    "    def push(self, value):\n",
    "        if self._size < self.max_n:\n",
    "            self.items[self.tail] = value\n",
    "            self.tail += 1\n",
    "            self._size += 1\n",
    "        else:\n",
    "            print('error')\n",
    "            \n",
    "    def get(self):\n",
    "        if self.is_empty():\n",
    "            print(None)\n",
    "            return\n",
    "        item = self.items[self.head]\n",
    "        self.items[self.head] = None\n",
    "        self.head += 1\n",
    "        self._size -= 1"
   ]
  },
  {
   "cell_type": "code",
   "execution_count": 203,
   "id": "b9ce9479-4292-47bd-a620-bde65c368829",
   "metadata": {},
   "outputs": [
    {
     "name": "stdout",
     "output_type": "stream",
     "text": [
      "None\n",
      "1 None None\n",
      "1 2 None\n",
      "1 2 3\n",
      "error\n",
      "1\n",
      "None 2 3\n",
      "None None 3\n",
      "None None None\n",
      "None\n"
     ]
    }
   ],
   "source": [
    "mqs = MyQueueSized(3)\n",
    "\n",
    "mqs.peek()\n",
    "mqs.push(1)\n",
    "print(mqs)\n",
    "mqs.push(2)\n",
    "print(mqs)\n",
    "mqs.push(3)\n",
    "print(mqs)\n",
    "mqs.push(4)\n",
    "mqs.peek()\n",
    "mqs.size()\n",
    "mqs.head\n",
    "mqs.get()\n",
    "print(mqs)\n",
    "mqs.get()\n",
    "print(mqs)\n",
    "mqs.get()\n",
    "print(mqs)\n",
    "mqs.get()"
   ]
  }
 ],
 "metadata": {
  "kernelspec": {
   "display_name": "Python 3 (ipykernel)",
   "language": "python",
   "name": "python3"
  },
  "language_info": {
   "codemirror_mode": {
    "name": "ipython",
    "version": 3
   },
   "file_extension": ".py",
   "mimetype": "text/x-python",
   "name": "python",
   "nbconvert_exporter": "python",
   "pygments_lexer": "ipython3",
   "version": "3.9.9"
  }
 },
 "nbformat": 4,
 "nbformat_minor": 5
}
