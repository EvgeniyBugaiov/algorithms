{
 "cells": [
  {
   "cell_type": "code",
   "execution_count": 8,
   "id": "9305a9b2-4680-41cd-8d65-aadf48e01616",
   "metadata": {},
   "outputs": [],
   "source": [
    "def fizz_buzz(n: int) -> list[str]:\n",
    "    result = []\n",
    "    for i in range(1, n+1):\n",
    "        if i % 3 == 0 and i % 5 == 0:\n",
    "            result.append('FizzBuzz')\n",
    "        elif i % 3 == 0:\n",
    "            result.append('Fizz')\n",
    "        elif i % 5 == 0:\n",
    "            result.append('Buzz')\n",
    "        else:\n",
    "            result.append(str(i))\n",
    "    return result"
   ]
  },
  {
   "cell_type": "code",
   "execution_count": 12,
   "id": "aa100b17-afad-4626-b3c4-add7476f0ebb",
   "metadata": {},
   "outputs": [],
   "source": [
    "assert fizz_buzz(3) == ['1', '2', 'Fizz']"
   ]
  },
  {
   "cell_type": "code",
   "execution_count": 46,
   "id": "e37a0bb9-e283-4c6a-ab20-918646d78c12",
   "metadata": {},
   "outputs": [],
   "source": [
    "def count_primes(n: int) -> int:\n",
    "    if n <= 1:\n",
    "        return 0\n",
    "    primes = [True] * n\n",
    "    primes[0], primes[1] = False, False\n",
    "    p = 2\n",
    "    while (p * p <= n):\n",
    "        if primes[p]:\n",
    "            for i in range(p**2, n, p):\n",
    "                primes[i] = False\n",
    "        p += 1\n",
    "    return sum(primes)"
   ]
  },
  {
   "cell_type": "code",
   "execution_count": 48,
   "id": "fafe1dda-365c-4d1b-a2c4-98155fdb53f9",
   "metadata": {},
   "outputs": [],
   "source": [
    "assert count_primes(5 * 10**6) == 348513"
   ]
  },
  {
   "cell_type": "code",
   "execution_count": 106,
   "id": "1b2d6b2a-d179-4b15-b1f4-b2d9f03a26ce",
   "metadata": {},
   "outputs": [],
   "source": [
    "def is_power_of_three(n: int) -> bool:\n",
    "    if n == 0:\n",
    "        return False\n",
    "    while n % 3 == 0:\n",
    "        n /= 3\n",
    "    return n == 1"
   ]
  },
  {
   "cell_type": "code",
   "execution_count": 107,
   "id": "6e602a70-dfbc-4e7e-b51a-776e981460b9",
   "metadata": {},
   "outputs": [],
   "source": [
    "assert is_power_of_three(27) == True"
   ]
  }
 ],
 "metadata": {
  "kernelspec": {
   "display_name": "Python 3 (ipykernel)",
   "language": "python",
   "name": "python3"
  },
  "language_info": {
   "codemirror_mode": {
    "name": "ipython",
    "version": 3
   },
   "file_extension": ".py",
   "mimetype": "text/x-python",
   "name": "python",
   "nbconvert_exporter": "python",
   "pygments_lexer": "ipython3",
   "version": "3.10.2"
  }
 },
 "nbformat": 4,
 "nbformat_minor": 5
}
