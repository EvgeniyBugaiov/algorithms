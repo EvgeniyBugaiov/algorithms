{
 "cells": [
  {
   "cell_type": "markdown",
   "id": "e5e21193-6fc6-46cf-a39c-0e3211de4867",
   "metadata": {},
   "source": [
    "<h2 style=\"color: greenYellow\">Remove Duplicates from Sorted Array</h2>"
   ]
  },
  {
   "cell_type": "code",
   "execution_count": 78,
   "id": "3a8524c0-d0ca-42d4-9286-7d84f677fdc3",
   "metadata": {},
   "outputs": [],
   "source": [
    "from typing import List\n",
    "\n",
    "def remove_duplicates(arr: List[int]) -> int:\n",
    "    len_arr = len(arr)\n",
    "    temp_set = set(arr)\n",
    "    k = len(temp_set)\n",
    "    arr[:] = sorted(list(temp_set))\n",
    "    for _ in range(len_arr - k):\n",
    "        arr.append('_')\n",
    "    return k"
   ]
  },
  {
   "cell_type": "code",
   "execution_count": 79,
   "id": "6bfd6354-74c8-4757-92b4-f16165d3643f",
   "metadata": {},
   "outputs": [],
   "source": [
    "nums = [-1, 0, 0, 0, 0, 3, 3]\n",
    "expectedNums = [-1, 0, 3, '_', '_', '_', '_']\n",
    "assert remove_duplicates(nums) == 3, 'len of unique array'\n",
    "assert nums == expectedNums, 'equal of arrays'"
   ]
  },
  {
   "cell_type": "markdown",
   "id": "8d17f4e5-7932-4435-b869-7218903cabaa",
   "metadata": {},
   "source": [
    "<h2 style=\"color: greenYellow\">Best Time to Buy and Sell Stock ||</h2>"
   ]
  },
  {
   "cell_type": "code",
   "execution_count": null,
   "id": "4c050741-4d4f-4c40-8027-3f710336c87c",
   "metadata": {},
   "outputs": [],
   "source": [
    "from typing import List\n",
    "\n",
    "def max_profit(prices: List[int]) -> int:\n",
    "    pass"
   ]
  },
  {
   "cell_type": "code",
   "execution_count": null,
   "id": "b75237f4-92e5-4576-acc8-90555de402f2",
   "metadata": {},
   "outputs": [],
   "source": [
    "prices = [7, 1, 5, 3, 6, 4]\n",
    "assert max_profit(prices) == 7, 'first case'\n",
    "\n",
    "prices = [1, 2, 3, 4, 5]\n",
    "assert max_profit(prices) == 4, 'second case'\n",
    "\n",
    "prices = [7, 6, 4, 3, 1]\n",
    "assert max_profit(prices) == 0, 'second case'"
   ]
  },
  {
   "cell_type": "markdown",
   "id": "30c38aa6-e752-436d-bcf4-b954b1a4302c",
   "metadata": {},
   "source": [
    "<h2 style=\"color: greenYellow\">Intersection of Two Array ||</h2>"
   ]
  },
  {
   "cell_type": "code",
   "execution_count": 76,
   "id": "2588d9ba-6abe-4632-8a19-0dd98315abe2",
   "metadata": {},
   "outputs": [],
   "source": [
    "from typing import List\n",
    "\n",
    "def intersect(arr1: List[int], arr2: List[int]) -> List[int]:\n",
    "    \n",
    "    return res"
   ]
  },
  {
   "cell_type": "code",
   "execution_count": 77,
   "id": "d914edf2-ba2a-42d6-b29c-59b77137437c",
   "metadata": {},
   "outputs": [
    {
     "data": {
      "text/plain": [
       "[2]"
      ]
     },
     "execution_count": 77,
     "metadata": {},
     "output_type": "execute_result"
    }
   ],
   "source": [
    "arr1 = [1, 2, 2, 1]\n",
    "arr2 = [2, 2]\n",
    "intersect(arr1, arr2)"
   ]
  },
  {
   "cell_type": "markdown",
   "id": "195fb7e9-2766-4d56-9e22-133b031ceec4",
   "metadata": {},
   "source": [
    "<h2 style=\"color: greenYellow\">Two Sum</h2>"
   ]
  },
  {
   "cell_type": "code",
   "execution_count": 71,
   "id": "1a939d54-4cbe-4b06-a0c9-0d151987ea2f",
   "metadata": {},
   "outputs": [],
   "source": [
    "from typing import List\n",
    "\n",
    "def two_sum(arr: List[int], target: int) -> List[int]:\n",
    "    for i in range(len(arr)):\n",
    "        for j in range(i+1, len(arr)):\n",
    "            if arr[i] + arr[j] == target:\n",
    "                return [i, j]"
   ]
  },
  {
   "cell_type": "code",
   "execution_count": 70,
   "id": "11246663-7c91-4329-896a-6ce4660f7ce6",
   "metadata": {},
   "outputs": [],
   "source": [
    "nums = [2, 7, 11, 15]\n",
    "assert two_sum(nums, 9) == [0, 1]\n",
    "\n",
    "nums = [3, 2, 4]\n",
    "assert two_sum(nums, 6) == [1, 2]\n",
    "\n",
    "nums = [3, 3]\n",
    "assert two_sum(nums, 6) == [0, 1]"
   ]
  }
 ],
 "metadata": {
  "kernelspec": {
   "display_name": "Python 3 (ipykernel)",
   "language": "python",
   "name": "python3"
  },
  "language_info": {
   "codemirror_mode": {
    "name": "ipython",
    "version": 3
   },
   "file_extension": ".py",
   "mimetype": "text/x-python",
   "name": "python",
   "nbconvert_exporter": "python",
   "pygments_lexer": "ipython3",
   "version": "3.9.9"
  }
 },
 "nbformat": 4,
 "nbformat_minor": 5
}
