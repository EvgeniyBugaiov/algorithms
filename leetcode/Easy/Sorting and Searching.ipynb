{
 "cells": [
  {
   "cell_type": "code",
   "execution_count": 35,
   "id": "78bdb5e5-e26b-4fa0-a1f7-2a6d6e075698",
   "metadata": {},
   "outputs": [],
   "source": [
    "def merge_arr(arr1: list, arr2: list, m: int, n: int) -> None:\n",
    "    left = arr1[:]\n",
    "    right = arr2[:]\n",
    "    left_idx = right_idx = idx = 0\n",
    "    while left_idx < m and right_idx < n:\n",
    "        if left[left_idx] < right[right_idx]:\n",
    "            arr1[idx] = left[left_idx]\n",
    "            left_idx += 1\n",
    "        else:\n",
    "            arr1[idx] = right[right_idx]\n",
    "            right_idx += 1\n",
    "        idx += 1\n",
    "    while left_idx < m:\n",
    "        arr1[idx] = left[left_idx]\n",
    "        left_idx += 1\n",
    "        idx += 1\n",
    "    while right_idx < n:\n",
    "        arr1[idx] = right[right_idx]\n",
    "        right_idx += 1\n",
    "        idx += 1"
   ]
  },
  {
   "cell_type": "code",
   "execution_count": 37,
   "id": "ab206ace-99d9-479f-86a1-f741d7782eff",
   "metadata": {},
   "outputs": [],
   "source": [
    "nums1 = [2, 0]\n",
    "nums2 = [1]\n",
    "merge_arr(nums1, nums2, 1, 1)\n",
    "\n",
    "assert nums1 == [1, 2]"
   ]
  },
  {
   "cell_type": "code",
   "execution_count": 38,
   "id": "18ae4b71-86ca-4264-aee1-ad14cd802cd2",
   "metadata": {},
   "outputs": [],
   "source": [
    "# The isBadVersion API is already defined for you.\n",
    "# @param version, an integer\n",
    "# @return a bool\n",
    "# def isBadVersion(version):\n",
    "\n",
    "class Solution(object):\n",
    "    def firstBadVersion(self, n):\n",
    "        \"\"\"\n",
    "        :type n: int\n",
    "        :rtype: int\n",
    "        \"\"\"\n",
    "        left= 1\n",
    "        right = n\n",
    "        while left < right:\n",
    "            middle = (right + left) // 2\n",
    "            if isBadVersion(middle):\n",
    "                right = middle\n",
    "            else:\n",
    "                left = middle + 1\n",
    "        return left\n"
   ]
  }
 ],
 "metadata": {
  "kernelspec": {
   "display_name": "Python 3 (ipykernel)",
   "language": "python",
   "name": "python3"
  },
  "language_info": {
   "codemirror_mode": {
    "name": "ipython",
    "version": 3
   },
   "file_extension": ".py",
   "mimetype": "text/x-python",
   "name": "python",
   "nbconvert_exporter": "python",
   "pygments_lexer": "ipython3",
   "version": "3.10.2"
  }
 },
 "nbformat": 4,
 "nbformat_minor": 5
}
