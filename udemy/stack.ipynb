{
 "cells": [
  {
   "cell_type": "markdown",
   "id": "81c05de1-c9de-4b07-a8d6-fede4d3dbf21",
   "metadata": {},
   "source": [
    "<h2 style=\"color: greenYellow\">Valid Parentheses</h2>"
   ]
  },
  {
   "cell_type": "code",
   "execution_count": 14,
   "id": "1007ae9e-84b5-4419-855d-6775fe44eca9",
   "metadata": {},
   "outputs": [],
   "source": [
    "def is_open(ch: str) -> bool:\n",
    "    return ch == '[' or ch == '(' or ch == '{'\n",
    "\n",
    "def is_pair(ch1: str, ch2: str) -> bool:\n",
    "    return (ch1 == '(' and ch2 == ')') or \\\n",
    "           (ch1 == '{' and ch2 == '}') or \\\n",
    "           (ch1 == '[' and ch2 == ']')\n",
    "\n",
    "def valid_parentheses(string: str) -> bool:\n",
    "    stack = []\n",
    "    for ch in string:\n",
    "        if is_open(ch):\n",
    "            stack.append(ch)\n",
    "        else:\n",
    "            if len(stack) > 0 and is_pair(stack[-1], ch):\n",
    "                stack.pop()\n",
    "            else:\n",
    "                return False\n",
    "    return len(stack) == 0"
   ]
  },
  {
   "cell_type": "code",
   "execution_count": 15,
   "id": "44fd568c-f9d0-4d00-a525-8d1ac0a4dd6c",
   "metadata": {},
   "outputs": [],
   "source": [
    "assert valid_parentheses('()({[]}())') == True\n",
    "assert valid_parentheses('}{') == False\n",
    "assert valid_parentheses('[(])') == False\n",
    "assert valid_parentheses('') == True"
   ]
  }
 ],
 "metadata": {
  "kernelspec": {
   "display_name": "Python 3 (ipykernel)",
   "language": "python",
   "name": "python3"
  },
  "language_info": {
   "codemirror_mode": {
    "name": "ipython",
    "version": 3
   },
   "file_extension": ".py",
   "mimetype": "text/x-python",
   "name": "python",
   "nbconvert_exporter": "python",
   "pygments_lexer": "ipython3",
   "version": "3.9.9"
  }
 },
 "nbformat": 4,
 "nbformat_minor": 5
}
