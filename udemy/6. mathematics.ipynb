{
 "cells": [
  {
   "cell_type": "markdown",
   "id": "70d1deba-5657-4dc0-893c-653e8018be31",
   "metadata": {},
   "source": [
    "<h2 style=\"color: yellowGreen\">Binary Exponentiation</h2>"
   ]
  },
  {
   "cell_type": "code",
   "execution_count": 4,
   "id": "4c46d1ce-ebf5-49d9-9278-3066fec7ba4a",
   "metadata": {},
   "outputs": [],
   "source": [
    "def bin_exp(num: int, power: int) -> int:\n",
    "    if power == 0:\n",
    "        return 1\n",
    "    if power % 2 == 1:\n",
    "        return bin_exp(num, power - 1) * num\n",
    "    b = bin_exp(num, power / 2)\n",
    "    return b * b  # not bin_exp * bin_exp"
   ]
  },
  {
   "cell_type": "code",
   "execution_count": 5,
   "id": "ac0e1908-286c-4a17-a64d-b935b5858624",
   "metadata": {},
   "outputs": [],
   "source": [
    "assert bin_exp(2, 7) == 128"
   ]
  },
  {
   "cell_type": "markdown",
   "id": "07d81c73-0aa7-4282-b0d1-b39d60c3b6f1",
   "metadata": {},
   "source": [
    "<h2 style=\"color: yellowGreen\">Binary Search</h2>"
   ]
  },
  {
   "cell_type": "code",
   "execution_count": 1,
   "id": "033b1d71-98ea-47fe-85a9-9e5043354bd9",
   "metadata": {},
   "outputs": [],
   "source": [
    "def bin_search(arr: list, el: int) -> int:\n",
    "    left = 0\n",
    "    right = len(arr) - 1\n",
    "    while left <= right:\n",
    "        mid = (left + right) // 2\n",
    "        if arr[mid] == el:\n",
    "            return mid\n",
    "        if arr[mid] < el:\n",
    "            left = mid + 1\n",
    "        else:\n",
    "            right = mid - 1"
   ]
  },
  {
   "cell_type": "code",
   "execution_count": 3,
   "id": "02ef4cf7-bb85-4d06-8cd9-64e041cc5229",
   "metadata": {},
   "outputs": [],
   "source": [
    "assert bin_search([1, 3, 5, 6, 7, 8], 6) == 3"
   ]
  },
  {
   "cell_type": "markdown",
   "id": "127f5ed3-cb6b-4bce-9399-a5554064b27b",
   "metadata": {},
   "source": [
    "<h2 style=\"color: yellowGreen\">Euclidion Algorithm</h2>"
   ]
  },
  {
   "cell_type": "code",
   "execution_count": 11,
   "id": "ea56bbe8-1855-46ad-847a-d9e36a7e29d1",
   "metadata": {},
   "outputs": [],
   "source": [
    "def gcd(num1: int, num2: int) -> int:\n",
    "    return num1 if num2 == 0 else gcd(num2, num1 % num2)"
   ]
  },
  {
   "cell_type": "code",
   "execution_count": 12,
   "id": "3f342640-9ebc-46b8-9a0b-bedcecb259c9",
   "metadata": {},
   "outputs": [],
   "source": [
    "assert gcd(15, 9) == 3"
   ]
  },
  {
   "cell_type": "markdown",
   "id": "65858621-197d-4240-94d7-2f661b87768a",
   "metadata": {},
   "source": [
    "<h2 style=\"color: yellowGreen\">Sieve of Eratosthenes</h2>"
   ]
  },
  {
   "cell_type": "code",
   "execution_count": 42,
   "id": "44036b2b-9824-46b4-90c0-856eccc34ca4",
   "metadata": {},
   "outputs": [],
   "source": [
    "from itertools import compress\n",
    "\n",
    "def sieve(n: int) -> list:\n",
    "    prime = [True for _ in range(n + 1)]\n",
    "    p = 2\n",
    "    while (p * p <= n):\n",
    "        if prime[p]:\n",
    "            for i in range(p**2, n + 1, p):\n",
    "                prime[i] = False\n",
    "        p += 1\n",
    "    prime[0], prime[1] = False, False\n",
    "    return list(compress(list(range(n + 1)), prime))"
   ]
  },
  {
   "cell_type": "code",
   "execution_count": 43,
   "id": "795e32aa-d366-4603-842d-d1b8eec8ebc8",
   "metadata": {},
   "outputs": [],
   "source": [
    "assert sieve(10) == [2, 3, 5, 7]"
   ]
  },
  {
   "cell_type": "markdown",
   "id": "61a8004d-a1fe-4cdc-8377-941febb9f448",
   "metadata": {},
   "source": [
    "<h2 style=\"color: yellowGreen\">Matrix Multiplication</h2>"
   ]
  },
  {
   "cell_type": "code",
   "execution_count": 21,
   "id": "ab9f8175-ac37-4fc8-8c9c-24dcbd7d49e5",
   "metadata": {},
   "outputs": [],
   "source": [
    "def matrix_mul(A: list[list], B: list[list]) -> list[list]:\n",
    "    n = len(A)\n",
    "    m = len(A[0])\n",
    "    k = len(B[0])\n",
    "    C = [[0 for _ in range(k)] for _ in range(n)]\n",
    "    for i in range(n):\n",
    "        for j in range(k):\n",
    "            for x in range(m):\n",
    "                C[i][j] += A[i][x] * B[x][j]\n",
    "    return C"
   ]
  },
  {
   "cell_type": "code",
   "execution_count": 22,
   "id": "e4d4deeb-46f6-447a-8c71-9e17eff810e3",
   "metadata": {},
   "outputs": [],
   "source": [
    "A = [[1, 2, 3],[3, 1, 2]]\n",
    "B = [[1, 2], [3, 2], [1, 2]]\n",
    "C = [[10, 12], [8, 12]]\n",
    "assert matrix_mul(A, B) == C"
   ]
  },
  {
   "cell_type": "markdown",
   "id": "aeb0294f-018a-4cf7-9aa9-3f95a21af1d3",
   "metadata": {},
   "source": [
    "<h2 style=\"color: greenYellow\">Euler</h2>"
   ]
  },
  {
   "cell_type": "code",
   "execution_count": 35,
   "id": "34aeb176-5640-45dc-ac44-f3d3a9ee9bae",
   "metadata": {},
   "outputs": [],
   "source": [
    "def gcd(num1: int, num2: int) -> int:\n",
    "    return num1 if num2 == 0 else gcd(num2, num1 % num2)\n",
    "\n",
    "def euler(n: int) -> int:\n",
    "    count = 0\n",
    "    for i in range(n):\n",
    "        if gcd(n, i) == 1:\n",
    "            count += 1\n",
    "    return count"
   ]
  },
  {
   "cell_type": "code",
   "execution_count": 38,
   "id": "ea7cb4b3-b743-4074-9d12-bea858b0b3ee",
   "metadata": {},
   "outputs": [],
   "source": [
    "assert euler(9) == 6"
   ]
  }
 ],
 "metadata": {
  "kernelspec": {
   "display_name": "Python 3 (ipykernel)",
   "language": "python",
   "name": "python3"
  },
  "language_info": {
   "codemirror_mode": {
    "name": "ipython",
    "version": 3
   },
   "file_extension": ".py",
   "mimetype": "text/x-python",
   "name": "python",
   "nbconvert_exporter": "python",
   "pygments_lexer": "ipython3",
   "version": "3.10.2"
  }
 },
 "nbformat": 4,
 "nbformat_minor": 5
}
