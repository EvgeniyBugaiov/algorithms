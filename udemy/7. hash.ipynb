{
 "cells": [
  {
   "cell_type": "code",
   "execution_count": 6,
   "id": "ef7a316e-9303-40d9-af7d-00f9b7e7fdcd",
   "metadata": {},
   "outputs": [],
   "source": [
    "def string_hash(string: str) -> int:\n",
    "    p = 31 # nearest prime number for 26(alphabet)\n",
    "    m = 1e9 + 7 # for no collisions\n",
    "    hash_sum = 0\n",
    "    prime_pow = 1\n",
    "    for ch in string:\n",
    "        hash_sum = (hash_sum + (ord(ch) - ord('a') + 1) * prime_pow) % m\n",
    "        prime_pow = (prime_pow * p) % m\n",
    "    return int(hash_sum)"
   ]
  },
  {
   "cell_type": "code",
   "execution_count": 8,
   "id": "4ca771bc-6d5b-4723-9772-bf327e87df6f",
   "metadata": {},
   "outputs": [
    {
     "name": "stdout",
     "output_type": "stream",
     "text": [
      "993\n",
      "True\n"
     ]
    }
   ],
   "source": [
    "print(string_hash('aaa'))\n",
    "print(string_hash('abb') == string_hash('abb'))"
   ]
  }
 ],
 "metadata": {
  "kernelspec": {
   "display_name": "Python 3 (ipykernel)",
   "language": "python",
   "name": "python3"
  },
  "language_info": {
   "codemirror_mode": {
    "name": "ipython",
    "version": 3
   },
   "file_extension": ".py",
   "mimetype": "text/x-python",
   "name": "python",
   "nbconvert_exporter": "python",
   "pygments_lexer": "ipython3",
   "version": "3.10.2"
  }
 },
 "nbformat": 4,
 "nbformat_minor": 5
}
