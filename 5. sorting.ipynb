{
 "cells": [
  {
   "cell_type": "markdown",
   "id": "24917471-1ef7-4169-abb3-801835b34234",
   "metadata": {},
   "source": [
    "<h2 style=\"color: greenYellow\">Selection Sort</h2>"
   ]
  },
  {
   "cell_type": "code",
   "execution_count": 16,
   "id": "e2094ec8-20dc-471a-9ed6-621205359cb3",
   "metadata": {},
   "outputs": [],
   "source": [
    "def selection_sort(arr: list) -> list:\n",
    "    for i in range(len(arr)):\n",
    "        min_idx = i\n",
    "        for j in range(i + 1, len(arr)):\n",
    "            if arr[min_idx] > arr[j]:\n",
    "                min_idx = j\n",
    "        arr[i], arr[min_idx] = arr[min_idx], arr[i]\n",
    "    return arr"
   ]
  },
  {
   "cell_type": "code",
   "execution_count": 17,
   "id": "0fb6beba-2e6f-4ee7-8b0b-9a8b6e35c509",
   "metadata": {},
   "outputs": [],
   "source": [
    "assert selection_sort([3, 6, 2, 9, 1]) == [1, 2, 3, 6, 9]"
   ]
  },
  {
   "cell_type": "markdown",
   "id": "ff851c13-ac28-4856-b6ea-ffa353d9366b",
   "metadata": {},
   "source": [
    "<h2 style=\"color: greenYellow\">Bubble Sort</h2>"
   ]
  },
  {
   "cell_type": "code",
   "execution_count": 26,
   "id": "6ed238cf-dbab-45dd-8d2c-9d98f7908299",
   "metadata": {},
   "outputs": [],
   "source": [
    "def bubble_sort(arr: list) -> list:\n",
    "    for i in range(len(arr)):\n",
    "        for j in range(1, len(arr)):\n",
    "            if arr[j] < arr[j-1]:\n",
    "                arr[j], arr[j-1] = arr[j-1], arr[j]\n",
    "    return arr"
   ]
  },
  {
   "cell_type": "code",
   "execution_count": 27,
   "id": "49c3eb56-c4ce-40a1-bbdd-79e4e0610f3c",
   "metadata": {},
   "outputs": [],
   "source": [
    "assert bubble_sort([3, 6, 2, 9, 1]) == [1, 2, 3, 6, 9]"
   ]
  },
  {
   "cell_type": "markdown",
   "id": "b3ccffc8-5443-411f-8eab-797f8b17aee5",
   "metadata": {},
   "source": [
    "<h2 style=\"color: greenYellow\">Insertion Sort</h2>"
   ]
  },
  {
   "cell_type": "code",
   "execution_count": 35,
   "id": "b86294eb-c2c7-439d-8f21-c72f3a5095d2",
   "metadata": {},
   "outputs": [],
   "source": [
    "def insertion_sort(arr: list) -> list:\n",
    "    for i in range(1, len(arr)):\n",
    "        j = i\n",
    "        while j > 0 and arr[j] < arr[j-1]:\n",
    "            arr[j], arr[j-1] = arr[j-1], arr[j]\n",
    "            j -= 1\n",
    "    return arr"
   ]
  },
  {
   "cell_type": "code",
   "execution_count": 36,
   "id": "7454aa96-1062-4aab-bc8e-37b9a5652045",
   "metadata": {},
   "outputs": [],
   "source": [
    "assert insertion_sort([3, 6, 2, 9, 1]) == [1, 2, 3, 6, 9]"
   ]
  },
  {
   "cell_type": "markdown",
   "id": "10a7876f-228a-42b7-b1c8-a546d9b7364f",
   "metadata": {},
   "source": [
    "<h2 style=\"color: greenYellow\">Counting Sort</h2>"
   ]
  },
  {
   "cell_type": "code",
   "execution_count": 54,
   "id": "bbe3d2e2-c07a-42fa-a7c5-39affe473eaa",
   "metadata": {},
   "outputs": [],
   "source": [
    "def counting_sort(arr: list) -> list:\n",
    "    max_elem = arr[0]\n",
    "    for i in range(1, len(arr)):\n",
    "        if arr[i] > max_elem:\n",
    "            max_elem = arr[i]\n",
    "    bucket = [0 for _ in range(max_elem + 1)]\n",
    "    for j in range(len(arr)):\n",
    "        bucket[arr[j]] += 1\n",
    "    arr.clear()\n",
    "    for x in range(len(bucket)):\n",
    "        for y in range(bucket[x]):\n",
    "            arr.append(x)\n",
    "    return arr"
   ]
  },
  {
   "cell_type": "code",
   "execution_count": 57,
   "id": "803bc481-3ddf-4a12-9a8c-2aa42e662b5d",
   "metadata": {},
   "outputs": [],
   "source": [
    "assert counting_sort([3, 3, 2, 5]) == [2, 3, 3, 5]"
   ]
  },
  {
   "cell_type": "markdown",
   "id": "88760443-035a-4fc4-a754-bbf3141e448f",
   "metadata": {},
   "source": [
    "<h2 style=\"color: greenYellow\">Merge Sort</h2>"
   ]
  },
  {
   "cell_type": "code",
   "execution_count": 38,
   "id": "7e5db871-330f-4287-a38e-fcbf41e35dfc",
   "metadata": {},
   "outputs": [],
   "source": [
    "def merge_sort(arr: list) -> list:\n",
    "    if len(arr) > 1:\n",
    "        mid = len(arr) // 2\n",
    "        left = arr[:mid]\n",
    "        right = arr[mid:]\n",
    "\n",
    "        merge_sort(left)\n",
    "        merge_sort(right)\n",
    "\n",
    "        left_idx = right_idx = idx = 0\n",
    "        while left_idx < len(left) and right_idx < len(right):\n",
    "            if left[left_idx] < right[right_idx]:\n",
    "                arr[idx] = left[left_idx]\n",
    "                left_idx += 1\n",
    "            else:\n",
    "                arr[idx] = right[right_idx]\n",
    "                right_idx += 1\n",
    "            idx += 1\n",
    "        while left_idx < len(left):\n",
    "            arr[idx] = left[left_idx]\n",
    "            left_idx += 1\n",
    "            idx += 1\n",
    "        while right_idx < len(right):\n",
    "            arr[idx] = right[right_idx]\n",
    "            right_idx += 1\n",
    "            idx += 1\n",
    "        return arr"
   ]
  },
  {
   "cell_type": "code",
   "execution_count": 40,
   "id": "99708482-2953-49ef-8019-c31c7090b7ab",
   "metadata": {},
   "outputs": [],
   "source": [
    "assert merge_sort([4, 2, 6, 2]) == [2, 2, 4, 6]"
   ]
  },
  {
   "cell_type": "markdown",
   "id": "d5ae029e-b70b-4d29-a0e4-1ff87a73620a",
   "metadata": {},
   "source": [
    "<h2 style=\"color: greenYellow\">Quick Sort</h2>"
   ]
  },
  {
   "cell_type": "code",
   "execution_count": 56,
   "id": "184d0c7e-250b-49fa-8bdc-818fca430258",
   "metadata": {},
   "outputs": [],
   "source": [
    "def quick_sort(arr: list) -> list:\n",
    "    if len(arr) < 2:\n",
    "        return arr\n",
    "    p = arr[0]\n",
    "    left = [i for i in arr[1:] if i <= p]\n",
    "    right = [j for j in arr[1:] if j > p]\n",
    "    return quick_sort(left) + [p] + quick_sort(right)"
   ]
  },
  {
   "cell_type": "code",
   "execution_count": 58,
   "id": "5f8b5b09-5f69-4514-9c78-e7a09d7c9233",
   "metadata": {},
   "outputs": [],
   "source": [
    "assert quick_sort([4, 3, 8, 4]) == [3, 4, 4, 8]"
   ]
  },
  {
   "cell_type": "markdown",
   "id": "a03f523c-4b4e-4bc0-9a39-c8a6b7715513",
   "metadata": {},
   "source": [
    "<h2 style=\"color: greenYellow\">Radix(поразрядная) Sort</h2>"
   ]
  },
  {
   "cell_type": "code",
   "execution_count": null,
   "id": "eb1cb45a-5ecd-4cf4-92b4-3e568b12d8ff",
   "metadata": {},
   "outputs": [],
   "source": []
  }
 ],
 "metadata": {
  "kernelspec": {
   "display_name": "Python 3 (ipykernel)",
   "language": "python",
   "name": "python3"
  },
  "language_info": {
   "codemirror_mode": {
    "name": "ipython",
    "version": 3
   },
   "file_extension": ".py",
   "mimetype": "text/x-python",
   "name": "python",
   "nbconvert_exporter": "python",
   "pygments_lexer": "ipython3",
   "version": "3.10.2"
  }
 },
 "nbformat": 4,
 "nbformat_minor": 5
}
