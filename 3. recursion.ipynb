{
 "cells": [
  {
   "cell_type": "code",
   "execution_count": 8,
   "id": "7619c3c7-71a2-4e9f-84ec-c940c124993a",
   "metadata": {},
   "outputs": [],
   "source": [
    "def recursion_sum(arr: list[int]) -> int:\n",
    "    if len(arr) == 0:\n",
    "        return 0\n",
    "    if len(arr) == 1:\n",
    "        return arr[0]\n",
    "    return arr[0] + sum(arr[1:])"
   ]
  },
  {
   "cell_type": "code",
   "execution_count": 9,
   "id": "92d60ebc-d4dc-4305-8e0e-2dcf956127d0",
   "metadata": {},
   "outputs": [],
   "source": [
    "assert recursion_sum([1, 2, 3]) == 6\n",
    "assert recursion_sum([]) == 0"
   ]
  },
  {
   "cell_type": "code",
   "execution_count": 4,
   "id": "0ec2e645-1605-41a7-853b-32dbf15c2940",
   "metadata": {},
   "outputs": [],
   "source": [
    "def max_common_divisor(num1: int, num2: int) -> int:\n",
    "    if num1 % num2 == 0:\n",
    "        return num2\n",
    "    return max_common_divisor(num2, num1 % num2)"
   ]
  },
  {
   "cell_type": "code",
   "execution_count": 5,
   "id": "89705048-8cbb-460a-87fa-311d4ff2d175",
   "metadata": {},
   "outputs": [],
   "source": [
    "assert max_common_divisor(2400, 820) == 20"
   ]
  },
  {
   "cell_type": "code",
   "execution_count": 11,
   "id": "0cc4b50f-8d44-49bb-b63e-347e107e8563",
   "metadata": {},
   "outputs": [],
   "source": [
    "def recursion_binary_search(arr, val, l, r):\n",
    "    if r >= l:\n",
    "        mid = l + (r - l) // 2\n",
    "        if arr[mid] == val:\n",
    "            return mid\n",
    "        elif arr[mid] > val:\n",
    "            return recursion_binary_search(arr, val, l, mid - 1)\n",
    "        else:\n",
    "            return recursion_binary_search(arr, val, mid + 1, r)\n",
    "    else:\n",
    "        return -1"
   ]
  },
  {
   "cell_type": "code",
   "execution_count": 12,
   "id": "4b192439-2127-43b5-9a7c-de7cf091ad68",
   "metadata": {},
   "outputs": [],
   "source": [
    "arr = [1, 2, 3, 4, 5]\n",
    "assert recursion_binary_search(arr, 3, 0, len(arr) - 1) == 2"
   ]
  },
  {
   "cell_type": "code",
   "execution_count": 13,
   "id": "1fb2af88-75e6-4519-9558-3277242c0abe",
   "metadata": {},
   "outputs": [],
   "source": [
    "def recursion_pow(x, n):\n",
    "    if n == 0:\n",
    "        return 1\n",
    "    if n % 2:\n",
    "        return x * recursion_pow(x, n - 1)\n",
    "    else:\n",
    "        m = recursion_pow(x, n // 2)\n",
    "        return m * m"
   ]
  },
  {
   "cell_type": "code",
   "execution_count": 16,
   "id": "98528983-1c5b-4372-967a-a445a2706051",
   "metadata": {},
   "outputs": [],
   "source": [
    "assert recursion_pow(2, 5) == 32\n",
    "assert recursion_pow(2, 4) == 16"
   ]
  },
  {
   "cell_type": "code",
   "execution_count": 42,
   "id": "dcab155e-6f43-4277-b017-7268c41714e1",
   "metadata": {},
   "outputs": [],
   "source": [
    "def recursion_count(arr: list[int]) -> int:\n",
    "    if arr == []:\n",
    "        return 0\n",
    "    return 1 + recursion_count(arr[1:])"
   ]
  },
  {
   "cell_type": "code",
   "execution_count": 43,
   "id": "f0042dc2-7d77-44cd-9388-320c49bc865b",
   "metadata": {},
   "outputs": [],
   "source": [
    "assert recursion_count([1, 2, 3]) == 3"
   ]
  },
  {
   "cell_type": "code",
   "execution_count": 46,
   "id": "bd7b90c1-d609-4d00-823e-17dbc56c0d5a",
   "metadata": {},
   "outputs": [],
   "source": [
    "def recursion_max(arr: list[int]) -> int:\n",
    "    if arr == []:\n",
    "        return\n",
    "    if len(arr) == 1:\n",
    "        return arr[0]\n",
    "    return arr[0] if arr[0] > recursion_max(arr[1:]) else recursion_max(arr[1:])"
   ]
  },
  {
   "cell_type": "code",
   "execution_count": 48,
   "id": "6e5523b5-4fb8-4b11-b43d-b78996c4eac2",
   "metadata": {},
   "outputs": [],
   "source": [
    "assert recursion_max([1, 2, 3]) == 3\n",
    "assert recursion_max([]) == None"
   ]
  },
  {
   "cell_type": "markdown",
   "id": "b1dead9f-a8d4-4b1d-bbcc-a4ac8d9e56b8",
   "metadata": {},
   "source": [
    "<h2 style=\"color: greenYellow\">A</h2>"
   ]
  },
  {
   "cell_type": "code",
   "execution_count": 3,
   "id": "b413635e-662c-49ea-b0ea-e84480f13ce5",
   "metadata": {},
   "outputs": [],
   "source": [
    "def recursion_fibonacci(n):\n",
    "    if n <= 1:\n",
    "        return 1\n",
    "    else:\n",
    "        return recursion_fibonacci(n - 2) + recursion_fibonacci(n - 1)"
   ]
  },
  {
   "cell_type": "code",
   "execution_count": 4,
   "id": "dc36530a-a68f-4f3b-81a8-015fbae5fa66",
   "metadata": {},
   "outputs": [],
   "source": [
    "assert recursion_fibonacci(3) == 3\n",
    "assert recursion_fibonacci(0) == 1"
   ]
  },
  {
   "cell_type": "markdown",
   "id": "5dc11ff9-208d-44ab-aab9-3d1ef4b0db23",
   "metadata": {},
   "source": [
    "<h2 style=\"color: greenYellow\">D</h2>"
   ]
  },
  {
   "cell_type": "code",
   "execution_count": 1,
   "id": "8ad1f5b3-8a3c-4104-b3c4-bf7d32e878d7",
   "metadata": {},
   "outputs": [],
   "source": [
    "def fib(f, n):\n",
    "    f[0] = 0\n",
    "    f[1] = 1\n",
    "    for i in range(2, n+1):\n",
    "        f[i] = (f[i - 2] + f[i - 1]) % 10\n",
    "    return f"
   ]
  },
  {
   "cell_type": "code",
   "execution_count": 15,
   "id": "0ffd6b55-bdf4-4e19-8b07-7f0bfec869e9",
   "metadata": {},
   "outputs": [],
   "source": [
    "def last_number_f(n):\n",
    "    f = [0] * 61\n",
    "    return fib(f, 60)[n % 60]\n",
    "\n",
    "assert last_number_f(1) == 1\n",
    "assert last_number_f(61) == 1\n",
    "assert last_number_f(7) == 3\n",
    "assert last_number_f(67) == 3"
   ]
  },
  {
   "cell_type": "markdown",
   "id": "496eeffb-b6d3-439d-9492-db24f4d9578c",
   "metadata": {},
   "source": [
    "<h2 style=\"color: greenYellow\">E</h2>"
   ]
  },
  {
   "cell_type": "code",
   "execution_count": 16,
   "id": "4df8eab8-2d3f-4eec-a502-e64a444d9d66",
   "metadata": {},
   "outputs": [],
   "source": [
    "def factorial(n: int) -> int:\n",
    "    if n == 0 or n == 1:\n",
    "        return 1\n",
    "    return n * factorial(n - 1)"
   ]
  },
  {
   "cell_type": "code",
   "execution_count": 19,
   "id": "f52a1014-4922-4008-b765-5bac8f62bd16",
   "metadata": {},
   "outputs": [],
   "source": [
    "assert factorial(3) == 6\n",
    "assert factorial(1) == 1"
   ]
  },
  {
   "cell_type": "markdown",
   "id": "d1229d56-ed7a-4004-8876-4a2687a557fb",
   "metadata": {},
   "source": [
    "<h2 style=\"color: greenYellow\">F</h2>"
   ]
  },
  {
   "cell_type": "code",
   "execution_count": 20,
   "id": "63380558-a5ce-4116-981e-6c77ae0c442a",
   "metadata": {},
   "outputs": [],
   "source": [
    "def circle_factorial(n: int) -> int:\n",
    "    res = 1\n",
    "    for i in range(1, n + 1):\n",
    "        res *= i\n",
    "    return res"
   ]
  },
  {
   "cell_type": "code",
   "execution_count": 22,
   "id": "5fd3cf22-5708-4578-bcf6-55eb4fb05e2f",
   "metadata": {},
   "outputs": [],
   "source": [
    "assert circle_factorial(5) == 120\n",
    "assert circle_factorial(1) == 1"
   ]
  },
  {
   "cell_type": "markdown",
   "id": "24e46db0-d538-45a3-9c7c-071a3685f5ea",
   "metadata": {},
   "source": [
    "<h2 style=\"color: greenYellow\">G</h2>"
   ]
  },
  {
   "cell_type": "code",
   "execution_count": 38,
   "id": "19d22d1c-ed6d-4239-a7e2-6b84a33fd51c",
   "metadata": {},
   "outputs": [],
   "source": [
    "from string import ascii_lowercase\n",
    "\n",
    "def alphabet_slice(ch: str) -> str:\n",
    "    res = []\n",
    "    for i in ascii_lowercase:\n",
    "        res.append(i)\n",
    "        if i == ch:\n",
    "            break\n",
    "    return ' '.join(res)\n",
    "\n",
    "assert alphabet_slice('c') == 'a b c'\n",
    "\n",
    "def a_s(ch):\n",
    "    inx = ascii_lowercase.index(ch)\n",
    "    return ' '.join([i for i in ascii_lowercase[:inx + 1]])\n",
    "\n",
    "assert a_s('c') == 'a b c'"
   ]
  },
  {
   "cell_type": "code",
   "execution_count": 41,
   "id": "601a7ca1-2504-4c30-9f72-5e0aa50f0532",
   "metadata": {},
   "outputs": [
    {
     "name": "stdout",
     "output_type": "stream",
     "text": [
      "2.78 µs ± 3.39 ns per loop (mean ± std. dev. of 7 runs, 100,000 loops each)\n"
     ]
    }
   ],
   "source": [
    "%%timeit\n",
    "alphabet_slice('z')"
   ]
  },
  {
   "cell_type": "code",
   "execution_count": 42,
   "id": "a3cd4d67-36d6-496b-985b-0ba93863d454",
   "metadata": {},
   "outputs": [
    {
     "name": "stdout",
     "output_type": "stream",
     "text": [
      "1.71 µs ± 1.25 ns per loop (mean ± std. dev. of 7 runs, 1,000,000 loops each)\n"
     ]
    }
   ],
   "source": [
    "%%timeit\n",
    "a_s('z')"
   ]
  },
  {
   "cell_type": "markdown",
   "id": "c959782d-b635-485e-9052-b798b97d449b",
   "metadata": {},
   "source": [
    "<h2 style=\"color: greenYellow\">I ?</h2>"
   ]
  },
  {
   "cell_type": "code",
   "execution_count": null,
   "id": "dd991e9b-b60e-4bfd-919a-389490ed314d",
   "metadata": {},
   "outputs": [],
   "source": [
    "def prizes(people: int, coins: list[int]) -> bool:\n",
    "    to_each = sum(coins) / people\n",
    "    if not isinstance(to_each, int):\n",
    "        return False\n",
    "    "
   ]
  }
 ],
 "metadata": {
  "kernelspec": {
   "display_name": "Python 3 (ipykernel)",
   "language": "python",
   "name": "python3"
  },
  "language_info": {
   "codemirror_mode": {
    "name": "ipython",
    "version": 3
   },
   "file_extension": ".py",
   "mimetype": "text/x-python",
   "name": "python",
   "nbconvert_exporter": "python",
   "pygments_lexer": "ipython3",
   "version": "3.9.9"
  }
 },
 "nbformat": 4,
 "nbformat_minor": 5
}
