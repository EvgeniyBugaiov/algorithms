{
 "cells": [
  {
   "cell_type": "code",
   "execution_count": 5,
   "id": "deb62d8a-9749-4675-a5ab-49238c8fec5b",
   "metadata": {},
   "outputs": [],
   "source": [
    "from typing import List\n",
    "\n",
    "def binary_search(arr: List[int], value: int) -> int:\n",
    "    less = 0\n",
    "    more = len(arr) - 1\n",
    "    while less <= more:\n",
    "        middle = (more + less) // 2\n",
    "        if value == arr[middle]:\n",
    "            return middle\n",
    "        elif value > arr[middle]:\n",
    "            less = middle\n",
    "        elif value < arr[middle]:\n",
    "            more = middle\n",
    "            \n",
    "arr = list(range(100))\n",
    "assert binary_search(arr, 10) == 10\n",
    "assert binary_search(arr, 50) == 50\n",
    "assert binary_search(arr, 90) == 90"
   ]
  }
 ],
 "metadata": {
  "kernelspec": {
   "display_name": "Python 3 (ipykernel)",
   "language": "python",
   "name": "python3"
  },
  "language_info": {
   "codemirror_mode": {
    "name": "ipython",
    "version": 3
   },
   "file_extension": ".py",
   "mimetype": "text/x-python",
   "name": "python",
   "nbconvert_exporter": "python",
   "pygments_lexer": "ipython3",
   "version": "3.9.9"
  }
 },
 "nbformat": 4,
 "nbformat_minor": 5
}
